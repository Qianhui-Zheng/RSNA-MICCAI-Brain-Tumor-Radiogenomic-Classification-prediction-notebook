{
 "cells": [
  {
   "cell_type": "code",
   "execution_count": 1,
   "id": "6da0f82f",
   "metadata": {
    "execution": {
     "iopub.execute_input": "2021-10-15T11:56:38.811048Z",
     "iopub.status.busy": "2021-10-15T11:56:38.809580Z",
     "iopub.status.idle": "2021-10-15T11:56:43.978819Z",
     "shell.execute_reply": "2021-10-15T11:56:43.977914Z",
     "shell.execute_reply.started": "2021-10-15T11:34:38.486544Z"
    },
    "papermill": {
     "duration": 5.198444,
     "end_time": "2021-10-15T11:56:43.978980",
     "exception": false,
     "start_time": "2021-10-15T11:56:38.780536",
     "status": "completed"
    },
    "tags": []
   },
   "outputs": [],
   "source": [
    "import os\n",
    "import glob\n",
    "\n",
    "os.environ['TF_CPP_MIN_LOG_LEVEL'] = '3'\n",
    "\n",
    "import pandas as pd\n",
    "import numpy as np\n",
    "from pathlib import Path\n",
    "\n",
    "import random\n",
    "from tqdm.notebook import tqdm\n",
    "import pydicom \n",
    "\n",
    "import cv2  \n",
    "\n",
    "from sklearn.model_selection import train_test_split\n",
    "from sklearn.metrics import roc_auc_score\n",
    "from sklearn import model_selection\n",
    "\n",
    "import tensorflow as tf\n",
    "from tensorflow import keras\n",
    "from tensorflow.keras.utils import to_categorical\n",
    "from tensorflow.keras import layers\n",
    "from tensorflow.keras.initializers import RandomUniform\n"
   ]
  },
  {
   "cell_type": "markdown",
   "id": "0914fae8",
   "metadata": {
    "papermill": {
     "duration": 0.023488,
     "end_time": "2021-10-15T11:56:44.027887",
     "exception": false,
     "start_time": "2021-10-15T11:56:44.004399",
     "status": "completed"
    },
    "tags": []
   },
   "source": [
    "# Load Datasets"
   ]
  },
  {
   "cell_type": "code",
   "execution_count": 2,
   "id": "7157034b",
   "metadata": {
    "execution": {
     "iopub.execute_input": "2021-10-15T11:56:44.083587Z",
     "iopub.status.busy": "2021-10-15T11:56:44.082748Z",
     "iopub.status.idle": "2021-10-15T11:56:44.112485Z",
     "shell.execute_reply": "2021-10-15T11:56:44.112865Z",
     "shell.execute_reply.started": "2021-10-15T11:34:43.899230Z"
    },
    "papermill": {
     "duration": 0.059565,
     "end_time": "2021-10-15T11:56:44.113001",
     "exception": false,
     "start_time": "2021-10-15T11:56:44.053436",
     "status": "completed"
    },
    "tags": []
   },
   "outputs": [],
   "source": [
    "data_dir = Path('../input/rsna-miccai-brain-tumor-radiogenomic-classification/')\n",
    "\n",
    "mri_types = [\"FLAIR\", \"T1w\", \"T2w\", \"T1wCE\"]\n",
    "excluded_images = [109, 123, 709] # Bad images\n",
    "\n",
    "train_df = pd.read_csv(data_dir / \"train_labels.csv\")\n",
    "test_df = pd.read_csv(data_dir / \"sample_submission.csv\")\n",
    "sample_submission = pd.read_csv(data_dir / \"sample_submission.csv\")\n",
    "\n",
    "train_df = train_df[~train_df.BraTS21ID.isin(excluded_images)].reset_index(drop=True)"
   ]
  },
  {
   "cell_type": "markdown",
   "id": "964f4006",
   "metadata": {
    "papermill": {
     "duration": 0.023105,
     "end_time": "2021-10-15T11:56:44.159632",
     "exception": false,
     "start_time": "2021-10-15T11:56:44.136527",
     "status": "completed"
    },
    "tags": []
   },
   "source": [
    "# KFold - Future Features"
   ]
  },
  {
   "cell_type": "code",
   "execution_count": 3,
   "id": "6ac51792",
   "metadata": {
    "execution": {
     "iopub.execute_input": "2021-10-15T11:56:44.211950Z",
     "iopub.status.busy": "2021-10-15T11:56:44.211169Z",
     "iopub.status.idle": "2021-10-15T11:56:44.213230Z",
     "shell.execute_reply": "2021-10-15T11:56:44.213641Z",
     "shell.execute_reply.started": "2021-10-15T11:34:43.933084Z"
    },
    "papermill": {
     "duration": 0.030534,
     "end_time": "2021-10-15T11:56:44.213783",
     "exception": false,
     "start_time": "2021-10-15T11:56:44.183249",
     "status": "completed"
    },
    "tags": []
   },
   "outputs": [],
   "source": [
    "def create_folds(data, num_splits):\n",
    "    data[\"kfold\"] = -1\n",
    "    kf = model_selection.KFold(n_splits=num_splits, shuffle=True, random_state=42)\n",
    "    for f, (t, v) in enumerate(kf.split(X=data)):\n",
    "        data.loc[v, \"kfold\"] = f\n",
    "    return data"
   ]
  },
  {
   "cell_type": "code",
   "execution_count": 4,
   "id": "b630a6b3",
   "metadata": {
    "execution": {
     "iopub.execute_input": "2021-10-15T11:56:44.270634Z",
     "iopub.status.busy": "2021-10-15T11:56:44.265013Z",
     "iopub.status.idle": "2021-10-15T11:56:44.273522Z",
     "shell.execute_reply": "2021-10-15T11:56:44.273939Z",
     "shell.execute_reply.started": "2021-10-15T11:34:43.941986Z"
    },
    "papermill": {
     "duration": 0.036358,
     "end_time": "2021-10-15T11:56:44.274058",
     "exception": false,
     "start_time": "2021-10-15T11:56:44.237700",
     "status": "completed"
    },
    "tags": []
   },
   "outputs": [],
   "source": [
    "k = 5\n",
    "train_df = create_folds(train_df, k)"
   ]
  },
  {
   "cell_type": "code",
   "execution_count": 5,
   "id": "aa0c0ed1",
   "metadata": {
    "execution": {
     "iopub.execute_input": "2021-10-15T11:56:44.335927Z",
     "iopub.status.busy": "2021-10-15T11:56:44.328363Z",
     "iopub.status.idle": "2021-10-15T11:56:44.338314Z",
     "shell.execute_reply": "2021-10-15T11:56:44.337867Z",
     "shell.execute_reply.started": "2021-10-15T11:35:08.300177Z"
    },
    "papermill": {
     "duration": 0.040948,
     "end_time": "2021-10-15T11:56:44.338414",
     "exception": false,
     "start_time": "2021-10-15T11:56:44.297466",
     "status": "completed"
    },
    "tags": []
   },
   "outputs": [],
   "source": [
    "def load_dicom(path, size = 224):\n",
    "    dicom = pydicom.read_file(path)\n",
    "    data = dicom.pixel_array\n",
    "    # transform data into black and white scale / grayscale\n",
    "#     data = data - np.min(data)\n",
    "    if np.max(data) != 0:\n",
    "        data = data / np.max(data)\n",
    "    data = (data * 255).astype(np.uint8)\n",
    "    return cv2.resize(data, (size, size))\n",
    "\n",
    "def get_all_image_paths(brats21id, image_type, folder='train'): \n",
    "    '''\n",
    "    Returns an arry of all the images of a particular type for a particular patient ID\n",
    "    '''\n",
    "    assert(image_type in mri_types)\n",
    "    \n",
    "    patient_path = os.path.join(\n",
    "        \"../input/rsna-miccai-brain-tumor-radiogenomic-classification/%s/\" % folder, \n",
    "        str(brats21id).zfill(5),\n",
    "    )\n",
    "\n",
    "    paths = sorted(\n",
    "        glob.glob(os.path.join(patient_path, image_type, \"*\")), \n",
    "        key=lambda x: int(x[:-4].split(\"-\")[-1]),\n",
    "    )\n",
    "    \n",
    "    num_images = len(paths)\n",
    "    \n",
    "    start = int(num_images * 0.25)\n",
    "    end = int(num_images * 0.75)\n",
    "\n",
    "    interval = 3\n",
    "    \n",
    "    if num_images < 10: \n",
    "        interval = 1\n",
    "    \n",
    "    return np.array(paths[start:end:interval])\n",
    "\n",
    "def get_all_images(brats21id, image_type, folder='train', size=225):\n",
    "    return [load_dicom(path, size) for path in get_all_image_paths(brats21id, image_type, folder)]\n",
    "\n",
    "def get_all_data_for_train(image_type, image_size=32):\n",
    "    global train_df\n",
    "    \n",
    "    X = []\n",
    "    y = []\n",
    "    train_ids = []\n",
    "\n",
    "    for i in tqdm(train_df.index):\n",
    "        x = train_df.loc[i]\n",
    "        images = get_all_images(int(x['BraTS21ID']), image_type, 'train', image_size)\n",
    "        label = x['MGMT_value']\n",
    "\n",
    "        X += images\n",
    "        y += [label] * len(images)\n",
    "        train_ids += [int(x['BraTS21ID'])] * len(images)\n",
    "        assert(len(X) == len(y))\n",
    "    return np.array(X), np.array(y), np.array(train_ids)\n",
    "\n",
    "def get_all_data_for_test(image_type, image_size=32):\n",
    "    global test_df\n",
    "    \n",
    "    X = []\n",
    "    test_ids = []\n",
    "\n",
    "    for i in tqdm(test_df.index):\n",
    "        x = test_df.loc[i]\n",
    "        images = get_all_images(int(x['BraTS21ID']), image_type, 'test', image_size)\n",
    "        X += images\n",
    "        test_ids += [int(x['BraTS21ID'])] * len(images)\n",
    "\n",
    "    return np.array(X), np.array(test_ids)"
   ]
  },
  {
   "cell_type": "code",
   "execution_count": 6,
   "id": "ee4fb745",
   "metadata": {
    "execution": {
     "iopub.execute_input": "2021-10-15T11:56:44.388868Z",
     "iopub.status.busy": "2021-10-15T11:56:44.388124Z",
     "iopub.status.idle": "2021-10-15T11:59:11.435858Z",
     "shell.execute_reply": "2021-10-15T11:59:11.436403Z",
     "shell.execute_reply.started": "2021-10-15T11:35:09.408205Z"
    },
    "papermill": {
     "duration": 147.074925,
     "end_time": "2021-10-15T11:59:11.436580",
     "exception": false,
     "start_time": "2021-10-15T11:56:44.361655",
     "status": "completed"
    },
    "tags": []
   },
   "outputs": [
    {
     "data": {
      "application/vnd.jupyter.widget-view+json": {
       "model_id": "787f9e3934aa4683b3333fe0fd9a5a2e",
       "version_major": 2,
       "version_minor": 0
      },
      "text/plain": [
       "  0%|          | 0/582 [00:00<?, ?it/s]"
      ]
     },
     "metadata": {},
     "output_type": "display_data"
    },
    {
     "data": {
      "application/vnd.jupyter.widget-view+json": {
       "model_id": "7ae0475010d742919af039b419a7b7f0",
       "version_major": 2,
       "version_minor": 0
      },
      "text/plain": [
       "  0%|          | 0/87 [00:00<?, ?it/s]"
      ]
     },
     "metadata": {},
     "output_type": "display_data"
    }
   ],
   "source": [
    "X, y, trainidt = get_all_data_for_train('T1wCE', image_size=32)\n",
    "X_test, testidt = get_all_data_for_test('T1wCE', image_size=32)"
   ]
  },
  {
   "cell_type": "markdown",
   "id": "cdc609df",
   "metadata": {
    "papermill": {
     "duration": 0.024683,
     "end_time": "2021-10-15T11:59:11.487385",
     "exception": false,
     "start_time": "2021-10-15T11:59:11.462702",
     "status": "completed"
    },
    "tags": []
   },
   "source": [
    "# Train/Validation Split"
   ]
  },
  {
   "cell_type": "code",
   "execution_count": 7,
   "id": "8c294005",
   "metadata": {
    "execution": {
     "iopub.execute_input": "2021-10-15T11:59:11.542177Z",
     "iopub.status.busy": "2021-10-15T11:59:11.541077Z",
     "iopub.status.idle": "2021-10-15T11:59:11.553009Z",
     "shell.execute_reply": "2021-10-15T11:59:11.552594Z",
     "shell.execute_reply.started": "2021-10-15T11:42:57.059790Z"
    },
    "papermill": {
     "duration": 0.041138,
     "end_time": "2021-10-15T11:59:11.553137",
     "exception": false,
     "start_time": "2021-10-15T11:59:11.511999",
     "status": "completed"
    },
    "tags": []
   },
   "outputs": [],
   "source": [
    "X_train, X_valid, y_train, y_valid, trainidt_train, trainidt_valid = train_test_split(X, y, trainidt, test_size=0.2, random_state=42)"
   ]
  },
  {
   "cell_type": "markdown",
   "id": "b4185514",
   "metadata": {
    "papermill": {
     "duration": 0.024547,
     "end_time": "2021-10-15T11:59:11.602343",
     "exception": false,
     "start_time": "2021-10-15T11:59:11.577796",
     "status": "completed"
    },
    "tags": []
   },
   "source": [
    "## Adding a Dimension"
   ]
  },
  {
   "cell_type": "code",
   "execution_count": 8,
   "id": "858afc60",
   "metadata": {
    "execution": {
     "iopub.execute_input": "2021-10-15T11:59:13.281633Z",
     "iopub.status.busy": "2021-10-15T11:59:13.280943Z",
     "iopub.status.idle": "2021-10-15T11:59:13.574786Z",
     "shell.execute_reply": "2021-10-15T11:59:13.574209Z",
     "shell.execute_reply.started": "2021-10-15T11:43:00.894904Z"
    },
    "papermill": {
     "duration": 1.947821,
     "end_time": "2021-10-15T11:59:13.574920",
     "exception": false,
     "start_time": "2021-10-15T11:59:11.627099",
     "status": "completed"
    },
    "tags": []
   },
   "outputs": [
    {
     "data": {
      "text/plain": [
       "TensorShape([12956, 32, 32, 1])"
      ]
     },
     "execution_count": 8,
     "metadata": {},
     "output_type": "execute_result"
    }
   ],
   "source": [
    "X_train = tf.expand_dims(X_train, axis=-1)\n",
    "X_valid = tf.expand_dims(X_valid, axis=-1)\n",
    "X_train.shape"
   ]
  },
  {
   "cell_type": "markdown",
   "id": "9514b204",
   "metadata": {
    "papermill": {
     "duration": 0.024978,
     "end_time": "2021-10-15T11:59:13.625323",
     "exception": false,
     "start_time": "2021-10-15T11:59:13.600345",
     "status": "completed"
    },
    "tags": []
   },
   "source": [
    "## One-hot encode labels"
   ]
  },
  {
   "cell_type": "code",
   "execution_count": 9,
   "id": "62c90376",
   "metadata": {
    "execution": {
     "iopub.execute_input": "2021-10-15T11:59:13.679016Z",
     "iopub.status.busy": "2021-10-15T11:59:13.678029Z",
     "iopub.status.idle": "2021-10-15T11:59:13.681994Z",
     "shell.execute_reply": "2021-10-15T11:59:13.682518Z",
     "shell.execute_reply.started": "2021-10-15T11:43:07.782697Z"
    },
    "papermill": {
     "duration": 0.032513,
     "end_time": "2021-10-15T11:59:13.682646",
     "exception": false,
     "start_time": "2021-10-15T11:59:13.650133",
     "status": "completed"
    },
    "tags": []
   },
   "outputs": [],
   "source": [
    "y_train = to_categorical(y_train)\n",
    "y_valid = to_categorical(y_valid)"
   ]
  },
  {
   "cell_type": "code",
   "execution_count": 10,
   "id": "c3f36062",
   "metadata": {
    "execution": {
     "iopub.execute_input": "2021-10-15T11:59:13.737328Z",
     "iopub.status.busy": "2021-10-15T11:59:13.736678Z",
     "iopub.status.idle": "2021-10-15T11:59:13.739621Z",
     "shell.execute_reply": "2021-10-15T11:59:13.740010Z",
     "shell.execute_reply.started": "2021-10-15T11:43:17.998873Z"
    },
    "papermill": {
     "duration": 0.032799,
     "end_time": "2021-10-15T11:59:13.740137",
     "exception": false,
     "start_time": "2021-10-15T11:59:13.707338",
     "status": "completed"
    },
    "tags": []
   },
   "outputs": [
    {
     "data": {
      "text/plain": [
       "(12956, 2)"
      ]
     },
     "execution_count": 10,
     "metadata": {},
     "output_type": "execute_result"
    }
   ],
   "source": [
    "y_train.shape"
   ]
  },
  {
   "cell_type": "markdown",
   "id": "f1c5f081",
   "metadata": {
    "papermill": {
     "duration": 0.024969,
     "end_time": "2021-10-15T11:59:13.790199",
     "exception": false,
     "start_time": "2021-10-15T11:59:13.765230",
     "status": "completed"
    },
    "tags": []
   },
   "source": [
    "# Tunable Model"
   ]
  },
  {
   "cell_type": "markdown",
   "id": "be2a3c47",
   "metadata": {
    "papermill": {
     "duration": 0.02534,
     "end_time": "2021-10-15T11:59:13.840719",
     "exception": false,
     "start_time": "2021-10-15T11:59:13.815379",
     "status": "completed"
    },
    "tags": []
   },
   "source": [
    "## Using the SIREN activation layer. Refer to https://vsitzmann.github.io/siren/ for more details."
   ]
  },
  {
   "cell_type": "code",
   "execution_count": 11,
   "id": "fa3ec83e",
   "metadata": {
    "execution": {
     "iopub.execute_input": "2021-10-15T11:59:13.905165Z",
     "iopub.status.busy": "2021-10-15T11:59:13.903565Z",
     "iopub.status.idle": "2021-10-15T11:59:13.905811Z",
     "shell.execute_reply": "2021-10-15T11:59:13.906221Z",
     "shell.execute_reply.started": "2021-10-15T11:43:27.417036Z"
    },
    "papermill": {
     "duration": 0.040677,
     "end_time": "2021-10-15T11:59:13.906420",
     "exception": false,
     "start_time": "2021-10-15T11:59:13.865743",
     "status": "completed"
    },
    "tags": []
   },
   "outputs": [],
   "source": [
    "class SineDenseLayer(keras.layers.Layer):\n",
    "    # See paper sec. 3.2, final paragraph, and supplement Sec. 1.5 for discussion of omega_0.\n",
    "    \n",
    "    # If is_first=True, omega_0 is a frequency factor which simply multiplies the activations before the \n",
    "    # nonlinearity. Different signals may require different omega_0 in the first layer - this is a \n",
    "    # hyperparameter.\n",
    "    \n",
    "    # If is_first=False, then the weights will be divided by omega_0 so as to keep the magnitude of \n",
    "    # activations constant, but boost gradients to the weight matrix (see supplement Sec. 1.5)\n",
    "    \n",
    "    def __init__(self, features,\n",
    "                 is_first=False, omega_0=30):\n",
    "        super().__init__()\n",
    "        self.omega_0 = omega_0\n",
    "        self.is_first = is_first\n",
    "        \n",
    "        self.features = features\n",
    "        \n",
    "        if self.is_first:\n",
    "            initializer = RandomUniform(-1 / self.features, 1 / self.features)   \n",
    "            self.linear = keras.layers.Dense(features, kernel_initializer=initializer)\n",
    "    \n",
    "        else:\n",
    "            initializer = RandomUniform(-np.sqrt(6 / self.features) / self.omega_0, np.sqrt(6 / self.features) / self.omega_0)\n",
    "            self.linear = keras.layers.Dense(features, kernel_initializer=initializer)\n",
    "     \n",
    "\n",
    "    def call(self, input):\n",
    "        return tf.math.sin(self.omega_0 * self.linear(input))\n",
    "    \n",
    "#     def forward_with_intermediate(self, input): \n",
    "#         # For visualization of activation distributions\n",
    "#         intermediate = self.omega_0 * self.linear(input)\n",
    "#         return tf.math.sin(intermediate), intermediate\n",
    "\n",
    "class SineConvLayer(keras.layers.Layer):\n",
    "    # See paper sec. 3.2, final paragraph, and supplement Sec. 1.5 for discussion of omega_0.\n",
    "    \n",
    "    # If is_first=True, omega_0 is a frequency factor which simply multiplies the activations before the \n",
    "    # nonlinearity. Different signals may require different omega_0 in the first layer - this is a \n",
    "    # hyperparameter.\n",
    "    \n",
    "    # If is_first=False, then the weights will be divided by omega_0 so as to keep the magnitude of \n",
    "    # activations constant, but boost gradients to the weight matrix (see supplement Sec. 1.5)\n",
    "    \n",
    "    def __init__(self, features, kernel_size,\n",
    "                 is_first=False, omega_0=30):\n",
    "        super().__init__()\n",
    "        self.omega_0 = omega_0\n",
    "        self.is_first = is_first\n",
    "        \n",
    "        self.features = features\n",
    "        \n",
    "        if self.is_first:\n",
    "            initializer = RandomUniform(-1 / self.features, 1 / self.features)            \n",
    "            self.conv = keras.layers.Conv2D(features, kernel_size, kernel_initializer=initializer)\n",
    "            \n",
    "        else:\n",
    "            initializer = RandomUniform(-np.sqrt(6 / self.features) / self.omega_0, np.sqrt(6 / self.features) / self.omega_0)\n",
    "            self.conv = keras.layers.Conv2D(features, kernel_size, kernel_initializer=initializer)\n",
    "            \n",
    "\n",
    "    def call(self, input):\n",
    "        return tf.math.sin(self.omega_0 * self.conv(input))\n",
    "    \n",
    "#     def forward_with_intermediate(self, input): \n",
    "#         # For visualization of activation distributions\n",
    "#         intermediate = self.omega_0 * self.linear(input)\n",
    "#         return tf.math.sin(intermediate), intermediate\n",
    "\n"
   ]
  },
  {
   "cell_type": "code",
   "execution_count": 12,
   "id": "b17d54e2",
   "metadata": {
    "execution": {
     "iopub.execute_input": "2021-10-15T11:59:13.972069Z",
     "iopub.status.busy": "2021-10-15T11:59:13.971418Z",
     "iopub.status.idle": "2021-10-15T11:59:14.022120Z",
     "shell.execute_reply": "2021-10-15T11:59:14.021647Z",
     "shell.execute_reply.started": "2021-10-15T11:43:28.475053Z"
    },
    "papermill": {
     "duration": 0.0889,
     "end_time": "2021-10-15T11:59:14.022241",
     "exception": false,
     "start_time": "2021-10-15T11:59:13.933341",
     "status": "completed"
    },
    "tags": []
   },
   "outputs": [],
   "source": [
    "import keras_tuner as kt\n",
    "\n",
    "\n",
    "def make_model(hp):\n",
    "    inputs = keras.Input(shape=X_train.shape[1:])\n",
    "    \n",
    "    x = keras.layers.experimental.preprocessing.Rescaling(1.0 / 255)(inputs)\n",
    "\n",
    "#     num_block = hp.Int('num_block', min_value=2, max_value=5, step=1)\n",
    "#     num_filters = hp.Int('num_filters', min_value=32, max_value=128, step=32)\n",
    "    \n",
    "#     x = keras.layers.Conv2D(64, kernel_size=(4, 4), activation=\"relu\", name=\"Conv_1\")(x)\n",
    "    x = keras.layers.Conv2D(filters=hp.Int('units_Conv_1_' + str(0),\n",
    "                                            min_value=64,\n",
    "                                            max_value=256,\n",
    "                                            step=32),\n",
    "                            kernel_size=(4, 4),\n",
    "                            activation=\"relu\", \n",
    "                            name=\"Conv_1\")(x)\n",
    "\n",
    "    x = keras.layers.MaxPool2D(pool_size=(2, 2))(x)\n",
    "\n",
    "#     x = keras.layers.Conv2D(32, kernel_size=(2, 2), activation=\"relu\", name=\"Conv_2\")(x)\n",
    "    x = keras.layers.Conv2D(filters=hp.Int('units_conv2_' + str(1),\n",
    "                                            min_value=16,\n",
    "                                            max_value=128,\n",
    "                                            step=16),\n",
    "                            kernel_size=(2, 2),\n",
    "                            activation=\"relu\",\n",
    "                            name=\"Conv_2\")(x)\n",
    "\n",
    "    x = keras.layers.MaxPool2D(pool_size=(1, 1))(x)\n",
    "    \n",
    "#     for i in range(num_block):\n",
    "#         x = keras.layers.Conv2D(num_filters, \n",
    "#                                 kernel_size=(4, 4),\n",
    "#                                 activation=\"relu\",\n",
    "#                                 )(x)\n",
    "    \n",
    "#         x = keras.layers.MaxPool2D(pool_size=(2, 2))(x)\n",
    "\n",
    "#     x = keras.layers.Conv2D(32, kernel_size=(2, 2), activation=\"relu\", name=\"Conv_2\")(x)\n",
    "#     x = keras.layers.MaxPool2D(pool_size=(1, 1))(x)\n",
    "\n",
    "#     h = keras.layers.Dropout(0.1)(h)\n",
    "    x = layers.Dropout(\n",
    "        hp.Float('dense_dropout', min_value=0., max_value=0.7)\n",
    "    )(x)\n",
    "    x = keras.layers.Flatten()(x)\n",
    "#     reduction_type = hp.Choice('reduction_type', ['flatten', 'avg'])\n",
    "#     if reduction_type == 'flatten':\n",
    "#         x = layers.Flatten()(x)\n",
    "#     else:\n",
    "#         x = layers.GlobalAveragePooling2D()(x)\n",
    "        \n",
    "#     x = keras.layers.Dense(32, activation=\"relu\")(x)\n",
    "    x = layers.Dense(\n",
    "        units=hp.Int('num_dense_units', min_value=16, max_value=64, step=8),\n",
    "        activation='relu'\n",
    "    )(x)\n",
    "\n",
    "    outputs = keras.layers.Dense(2, activation=\"softmax\")(x)\n",
    "\n",
    "    model = keras.Model(inputs, outputs)\n",
    "\n",
    "    roc_auc = tf.keras.metrics.AUC(name='roc_auc', curve='ROC')\n",
    "\n",
    "    model.compile(\n",
    "        loss=\"categorical_crossentropy\", optimizer=\"adam\", metrics=[roc_auc]\n",
    "    )\n",
    "    model.summary()\n",
    "    return model"
   ]
  },
  {
   "cell_type": "markdown",
   "id": "69dde9b5",
   "metadata": {
    "papermill": {
     "duration": 0.024946,
     "end_time": "2021-10-15T11:59:14.072492",
     "exception": false,
     "start_time": "2021-10-15T11:59:14.047546",
     "status": "completed"
    },
    "tags": []
   },
   "source": [
    "# Augmentation\n",
    "\n",
    "- https://www.tensorflow.org/guide/keras/preprocessing_layers\n",
    "- https://keras.io/examples/vision/image_classification_from_scratch/"
   ]
  },
  {
   "cell_type": "code",
   "execution_count": 13,
   "id": "bf0bf5d5",
   "metadata": {
    "execution": {
     "iopub.execute_input": "2021-10-15T11:59:14.137231Z",
     "iopub.status.busy": "2021-10-15T11:59:14.136627Z",
     "iopub.status.idle": "2021-10-15T11:59:14.139528Z",
     "shell.execute_reply": "2021-10-15T11:59:14.139887Z",
     "shell.execute_reply.started": "2021-10-15T11:43:30.221633Z"
    },
    "papermill": {
     "duration": 0.042503,
     "end_time": "2021-10-15T11:59:14.140002",
     "exception": false,
     "start_time": "2021-10-15T11:59:14.097499",
     "status": "completed"
    },
    "tags": []
   },
   "outputs": [],
   "source": [
    "def make_model_augmented(hp):\n",
    "    input_shape = (32, 32, 1)\n",
    "    classes = 10\n",
    "\n",
    "    # Create a data augmentation stage with horizontal flipping, rotations, zooms\n",
    "#     data_augmentation = keras.Sequential(\n",
    "#         [\n",
    "#             layers.experimental.preprocessing.RandomFlip(\"horizontal\"),\n",
    "#             layers.experimental.preprocessing.RandomRotation(0.1),\n",
    "#             layers.experimental.preprocessing.RandomZoom(0.1),\n",
    "#         ]\n",
    "#     )\n",
    "    \n",
    "    data_augmentation = keras.Sequential(\n",
    "    [\n",
    "        layers.experimental.preprocessing.RandomFlip(\"horizontal\"),\n",
    "        layers.experimental.preprocessing.RandomRotation(0.1),\n",
    "    ]\n",
    ")\n",
    "\n",
    "    shape=X_train.shape[1:]\n",
    "    print(f\"shape={shape}\") # shape=(32, 32, 1)\n",
    "    \n",
    "    inputs = keras.Input(shape=input_shape)\n",
    "    x = data_augmentation(inputs)\n",
    "\n",
    "    x = keras.layers.experimental.preprocessing.Rescaling(1.0 / 255)(x)\n",
    "#     x = layers.experimental.preprocessing.RandomFlip(\"horizontal\")(x),\n",
    "#     x = layers.experimental.preprocessing.RandomRotation(0.1)(x),\n",
    "#     x = layers.experimental.preprocessing.RandomZoom(\n",
    "#         height_factor = 0.2,\n",
    "#         width_factor = -0.3,\n",
    "#         fill_mode = \"constant\",\n",
    "#         interpolation = \"bilinear\",\n",
    "#         seed = 42\n",
    "#     )(x),\n",
    "#     num_block = hp.Int('num_block', min_value=2, max_value=5, step=1)\n",
    "#     num_filters = hp.Int('num_filters', min_value=32, max_value=128, step=32)\n",
    "    \n",
    "#     x = keras.layers.Conv2D(64, kernel_size=(4, 4), activation=\"relu\", name=\"Conv_1\")(x)\n",
    "    x = keras.layers.Conv2D(filters=hp.Int('units_Conv_1_' + str(0),\n",
    "                                            min_value=64,\n",
    "                                            max_value=256,\n",
    "                                            step=32),\n",
    "                            kernel_size=(4, 4),\n",
    "                            activation=\"relu\", \n",
    "                            name=\"Conv_1\")(x)\n",
    "\n",
    "    x = keras.layers.MaxPool2D(pool_size=(2, 2))(x)\n",
    "\n",
    "#     x = keras.layers.Conv2D(32, kernel_size=(2, 2), activation=\"relu\", name=\"Conv_2\")(x)\n",
    "    x = keras.layers.Conv2D(filters=hp.Int('units_conv2_' + str(1),\n",
    "                                            min_value=16,\n",
    "                                            max_value=128,\n",
    "                                            step=16),\n",
    "                            kernel_size=(2, 2),\n",
    "                            activation=\"relu\",\n",
    "                            name=\"Conv_2\")(x)\n",
    "\n",
    "    x = keras.layers.MaxPool2D(pool_size=(1, 1))(x)\n",
    "    \n",
    "#     for i in range(num_block):\n",
    "#         x = keras.layers.Conv2D(num_filters, \n",
    "#                                 kernel_size=(4, 4),\n",
    "#                                 activation=\"relu\",\n",
    "#                                 )(x)\n",
    "    \n",
    "#         x = keras.layers.MaxPool2D(pool_size=(2, 2))(x)\n",
    "\n",
    "#     x = keras.layers.Conv2D(32, kernel_size=(2, 2), activation=\"relu\", name=\"Conv_2\")(x)\n",
    "#     x = keras.layers.MaxPool2D(pool_size=(1, 1))(x)\n",
    "\n",
    "#     h = keras.layers.Dropout(0.1)(h)\n",
    "    x = layers.Dropout(\n",
    "        hp.Float('dense_dropout', min_value=0., max_value=0.7)\n",
    "    )(x)\n",
    "    x = keras.layers.Flatten()(x)\n",
    "#     reduction_type = hp.Choice('reduction_type', ['flatten', 'avg'])\n",
    "#     if reduction_type == 'flatten':\n",
    "#         x = layers.Flatten()(x)\n",
    "#     else:\n",
    "#         x = layers.GlobalAveragePooling2D()(x)\n",
    "        \n",
    "#     x = keras.layers.Dense(32, activation=\"relu\")(x)\n",
    "    x = layers.Dense(\n",
    "        units=hp.Int('num_dense_units', min_value=16, max_value=64, step=8),\n",
    "        activation='relu'\n",
    "    )(x)\n",
    "\n",
    "    outputs = keras.layers.Dense(2, activation=\"softmax\")(x)\n",
    "\n",
    "    model = keras.Model(inputs, outputs)\n",
    "\n",
    "    roc_auc = tf.keras.metrics.AUC(name='roc_auc', curve='ROC')\n",
    "\n",
    "    model.compile(\n",
    "        loss=\"categorical_crossentropy\", optimizer=\"adam\", metrics=[roc_auc]\n",
    "    )\n",
    "    model.summary()\n",
    "    return model"
   ]
  },
  {
   "cell_type": "code",
   "execution_count": 14,
   "id": "55e6df56",
   "metadata": {
    "execution": {
     "iopub.execute_input": "2021-10-15T11:59:14.206093Z",
     "iopub.status.busy": "2021-10-15T11:59:14.204504Z",
     "iopub.status.idle": "2021-10-15T11:59:14.206859Z",
     "shell.execute_reply": "2021-10-15T11:59:14.207322Z",
     "shell.execute_reply.started": "2021-10-15T11:43:30.907076Z"
    },
    "papermill": {
     "duration": 0.040977,
     "end_time": "2021-10-15T11:59:14.207440",
     "exception": false,
     "start_time": "2021-10-15T11:59:14.166463",
     "status": "completed"
    },
    "tags": []
   },
   "outputs": [],
   "source": [
    "import keras_tuner as kt\n",
    "\n",
    "\n",
    "def make_model_siren(hp):\n",
    "    inputs = keras.Input(shape=X_train.shape[1:])\n",
    "    \n",
    "    x = keras.layers.experimental.preprocessing.Rescaling(1.0 / 255)(inputs)\n",
    "\n",
    "    x = SineConvLayer(features=hp.Int('features_conv_1', min_value=64, max_value=256, step=32),\n",
    "                      kernel_size=hp.Int('kernel_conv_1', min_value=2, max_value=7, step=1),\n",
    "                      is_first=True, \n",
    "                      omega_0=hp.Int('omega_0_conv_1', min_value=10, max_value=50, step=5))(x)\n",
    "    \n",
    "    x = keras.layers.MaxPool2D(pool_size=(2, 2))(x)\n",
    "\n",
    "    x = SineConvLayer(features=hp.Int('features_conv_2', min_value=16, max_value=128, step=16),\n",
    "                      kernel_size=hp.Int('kernel_conv_2', min_value=2, max_value=7, step=1),\n",
    "                      is_first=False, \n",
    "                      omega_0=hp.Int('omega_0_conv_2', min_value=10, max_value=50, step=5))(x)\n",
    "\n",
    "    x = keras.layers.MaxPool2D(pool_size=(1, 1))(x)\n",
    "    \n",
    "    x = layers.Dropout(\n",
    "        hp.Float('dense_dropout', min_value=0., max_value=0.7)\n",
    "    )(x)\n",
    "    x = keras.layers.Flatten()(x)\n",
    "    x = SineDenseLayer(features=hp.Int('features_dense_1', min_value=64, max_value=256, step=32),\n",
    "                      is_first=False, \n",
    "                      omega_0=hp.Int('omega_0_dense_1', min_value=10, max_value=50, step=5))(x)\n",
    "\n",
    "    outputs = keras.layers.Dense(2, activation=\"softmax\")(x)\n",
    "\n",
    "    model = keras.Model(inputs, outputs)\n",
    "\n",
    "    roc_auc = tf.keras.metrics.AUC(name='roc_auc', curve='ROC')\n",
    "\n",
    "    model.compile(\n",
    "        loss=\"categorical_crossentropy\", optimizer=\"adam\", metrics=[roc_auc]\n",
    "    )\n",
    "    model.summary()\n",
    "    return model"
   ]
  },
  {
   "cell_type": "markdown",
   "id": "ae44b47a",
   "metadata": {
    "papermill": {
     "duration": 0.02474,
     "end_time": "2021-10-15T11:59:14.257808",
     "exception": false,
     "start_time": "2021-10-15T11:59:14.233068",
     "status": "completed"
    },
    "tags": []
   },
   "source": [
    "# Hyperparameter Search"
   ]
  },
  {
   "cell_type": "code",
   "execution_count": 15,
   "id": "d1d68c39",
   "metadata": {
    "execution": {
     "iopub.execute_input": "2021-10-15T11:59:14.313577Z",
     "iopub.status.busy": "2021-10-15T11:59:14.312857Z",
     "iopub.status.idle": "2021-10-15T12:02:43.478779Z",
     "shell.execute_reply": "2021-10-15T12:02:43.478324Z",
     "shell.execute_reply.started": "2021-10-15T11:43:32.354148Z"
    },
    "papermill": {
     "duration": 209.196082,
     "end_time": "2021-10-15T12:02:43.478908",
     "exception": false,
     "start_time": "2021-10-15T11:59:14.282826",
     "status": "completed"
    },
    "tags": []
   },
   "outputs": [
    {
     "name": "stdout",
     "output_type": "stream",
     "text": [
      "Trial 5 Complete [00h 00m 43s]\n",
      "val_loss: 0.6775481700897217\n",
      "\n",
      "Best val_loss So Far: 0.6500762104988098\n",
      "Total elapsed time: 00h 03m 28s\n"
     ]
    }
   ],
   "source": [
    "tuner = kt.tuners.BayesianOptimization(\n",
    "#     make_model_siren,\n",
    "#     make_model,\n",
    "    make_model_augmented,\n",
    "    objective='val_loss',\n",
    "    max_trials=5,  # Set to 5 to run quicker, but need 100+ for good results\n",
    "    overwrite=True)\n",
    "\n",
    "callbacks=[keras.callbacks.EarlyStopping(monitor='val_roc_acc', mode='max', patience=3, baseline=0.9)]\n",
    "\n",
    "tuner.search(X_train, y_train, validation_split=0.2, callbacks=callbacks, verbose=1, epochs=20)"
   ]
  },
  {
   "cell_type": "markdown",
   "id": "d0320962",
   "metadata": {
    "papermill": {
     "duration": 0.024329,
     "end_time": "2021-10-15T12:02:43.528443",
     "exception": false,
     "start_time": "2021-10-15T12:02:43.504114",
     "status": "completed"
    },
    "tags": []
   },
   "source": [
    "# Find the best epoch value"
   ]
  },
  {
   "cell_type": "code",
   "execution_count": 16,
   "id": "4189c398",
   "metadata": {
    "execution": {
     "iopub.execute_input": "2021-10-15T12:02:43.586731Z",
     "iopub.status.busy": "2021-10-15T12:02:43.584185Z",
     "iopub.status.idle": "2021-10-15T12:02:43.640990Z",
     "shell.execute_reply": "2021-10-15T12:02:43.641671Z",
     "shell.execute_reply.started": "2021-10-15T11:46:54.238694Z"
    },
    "papermill": {
     "duration": 0.088575,
     "end_time": "2021-10-15T12:02:43.641837",
     "exception": false,
     "start_time": "2021-10-15T12:02:43.553262",
     "status": "completed"
    },
    "tags": []
   },
   "outputs": [
    {
     "name": "stdout",
     "output_type": "stream",
     "text": [
      "Model: \"model_1\"\n",
      "_________________________________________________________________\n",
      "Layer (type)                 Output Shape              Param #   \n",
      "=================================================================\n",
      "input_2 (InputLayer)         [(None, 32, 32, 1)]       0         \n",
      "_________________________________________________________________\n",
      "rescaling_1 (Rescaling)      (None, 32, 32, 1)         0         \n",
      "_________________________________________________________________\n",
      "Conv_1 (Conv2D)              (None, 29, 29, 64)        1088      \n",
      "_________________________________________________________________\n",
      "max_pooling2d_2 (MaxPooling2 (None, 14, 14, 64)        0         \n",
      "_________________________________________________________________\n",
      "Conv_2 (Conv2D)              (None, 13, 13, 112)       28784     \n",
      "_________________________________________________________________\n",
      "max_pooling2d_3 (MaxPooling2 (None, 13, 13, 112)       0         \n",
      "_________________________________________________________________\n",
      "dropout_1 (Dropout)          (None, 13, 13, 112)       0         \n",
      "_________________________________________________________________\n",
      "flatten_1 (Flatten)          (None, 18928)             0         \n",
      "_________________________________________________________________\n",
      "dense_2 (Dense)              (None, 40)                757160    \n",
      "_________________________________________________________________\n",
      "dense_3 (Dense)              (None, 2)                 82        \n",
      "=================================================================\n",
      "Total params: 787,114\n",
      "Trainable params: 787,114\n",
      "Non-trainable params: 0\n",
      "_________________________________________________________________\n"
     ]
    }
   ],
   "source": [
    "best_hp = tuner.get_best_hyperparameters()[0]\n",
    "best_model = make_model(best_hp)"
   ]
  },
  {
   "cell_type": "markdown",
   "id": "5fbd161d",
   "metadata": {
    "papermill": {
     "duration": 0.024588,
     "end_time": "2021-10-15T12:02:43.692048",
     "exception": false,
     "start_time": "2021-10-15T12:02:43.667460",
     "status": "completed"
    },
    "tags": []
   },
   "source": [
    "# Save Model"
   ]
  },
  {
   "cell_type": "code",
   "execution_count": 17,
   "id": "4daf105d",
   "metadata": {
    "execution": {
     "iopub.execute_input": "2021-10-15T12:02:43.749018Z",
     "iopub.status.busy": "2021-10-15T12:02:43.748221Z",
     "iopub.status.idle": "2021-10-15T12:02:44.605682Z",
     "shell.execute_reply": "2021-10-15T12:02:44.604945Z",
     "shell.execute_reply.started": "2021-10-15T11:47:29.640412Z"
    },
    "papermill": {
     "duration": 0.887352,
     "end_time": "2021-10-15T12:02:44.605860",
     "exception": false,
     "start_time": "2021-10-15T12:02:43.718508",
     "status": "completed"
    },
    "tags": []
   },
   "outputs": [],
   "source": [
    "best_model.save(\"best_model\")"
   ]
  },
  {
   "cell_type": "code",
   "execution_count": 18,
   "id": "67a73ade",
   "metadata": {
    "execution": {
     "iopub.execute_input": "2021-10-15T12:02:44.662155Z",
     "iopub.status.busy": "2021-10-15T12:02:44.661597Z",
     "iopub.status.idle": "2021-10-15T12:04:03.705187Z",
     "shell.execute_reply": "2021-10-15T12:04:03.705650Z",
     "shell.execute_reply.started": "2021-10-15T11:47:31.435566Z"
    },
    "papermill": {
     "duration": 79.073431,
     "end_time": "2021-10-15T12:04:03.705819",
     "exception": false,
     "start_time": "2021-10-15T12:02:44.632388",
     "status": "completed"
    },
    "tags": []
   },
   "outputs": [
    {
     "name": "stdout",
     "output_type": "stream",
     "text": [
      "Epoch 1/50\n",
      "324/324 [==============================] - 2s 5ms/step - loss: 0.6875 - roc_auc: 0.5625 - val_loss: 0.6805 - val_roc_auc: 0.5894\n",
      "Epoch 2/50\n",
      "324/324 [==============================] - 1s 4ms/step - loss: 0.6749 - roc_auc: 0.6097 - val_loss: 0.6835 - val_roc_auc: 0.6051\n",
      "Epoch 3/50\n",
      "324/324 [==============================] - 1s 5ms/step - loss: 0.6648 - roc_auc: 0.6308 - val_loss: 0.6598 - val_roc_auc: 0.6378\n",
      "Epoch 4/50\n",
      "324/324 [==============================] - 1s 5ms/step - loss: 0.6370 - roc_auc: 0.6837 - val_loss: 0.6397 - val_roc_auc: 0.6846\n",
      "Epoch 5/50\n",
      "324/324 [==============================] - 1s 5ms/step - loss: 0.5961 - roc_auc: 0.7397 - val_loss: 0.6243 - val_roc_auc: 0.7070\n",
      "Epoch 6/50\n",
      "324/324 [==============================] - 1s 5ms/step - loss: 0.5512 - roc_auc: 0.7907 - val_loss: 0.6179 - val_roc_auc: 0.7273\n",
      "Epoch 7/50\n",
      "324/324 [==============================] - 2s 7ms/step - loss: 0.5013 - roc_auc: 0.8318 - val_loss: 0.6010 - val_roc_auc: 0.7550\n",
      "Epoch 8/50\n",
      "324/324 [==============================] - 1s 5ms/step - loss: 0.4479 - roc_auc: 0.8718 - val_loss: 0.5808 - val_roc_auc: 0.7829\n",
      "Epoch 9/50\n",
      "324/324 [==============================] - 2s 5ms/step - loss: 0.3886 - roc_auc: 0.9060 - val_loss: 0.5671 - val_roc_auc: 0.7982\n",
      "Epoch 10/50\n",
      "324/324 [==============================] - 2s 5ms/step - loss: 0.3444 - roc_auc: 0.9285 - val_loss: 0.6009 - val_roc_auc: 0.7977\n",
      "Epoch 11/50\n",
      "324/324 [==============================] - 1s 5ms/step - loss: 0.2983 - roc_auc: 0.9474 - val_loss: 0.5561 - val_roc_auc: 0.8272\n",
      "Epoch 12/50\n",
      "324/324 [==============================] - 1s 5ms/step - loss: 0.2510 - roc_auc: 0.9645 - val_loss: 0.5781 - val_roc_auc: 0.8223\n",
      "Epoch 13/50\n",
      "324/324 [==============================] - 1s 5ms/step - loss: 0.2241 - roc_auc: 0.9712 - val_loss: 0.6086 - val_roc_auc: 0.8356\n",
      "Epoch 14/50\n",
      "324/324 [==============================] - 2s 5ms/step - loss: 0.1895 - roc_auc: 0.9798 - val_loss: 0.6147 - val_roc_auc: 0.8444\n",
      "Epoch 15/50\n",
      "324/324 [==============================] - 1s 4ms/step - loss: 0.1705 - roc_auc: 0.9834 - val_loss: 0.6319 - val_roc_auc: 0.8468\n",
      "Epoch 16/50\n",
      "324/324 [==============================] - 1s 4ms/step - loss: 0.1462 - roc_auc: 0.9882 - val_loss: 0.6499 - val_roc_auc: 0.8452\n",
      "Epoch 17/50\n",
      "324/324 [==============================] - 1s 5ms/step - loss: 0.1327 - roc_auc: 0.9904 - val_loss: 0.6980 - val_roc_auc: 0.8475\n",
      "Epoch 18/50\n",
      "324/324 [==============================] - 1s 4ms/step - loss: 0.1069 - roc_auc: 0.9940 - val_loss: 0.6861 - val_roc_auc: 0.8500\n",
      "Epoch 19/50\n",
      "324/324 [==============================] - 1s 4ms/step - loss: 0.0943 - roc_auc: 0.9952 - val_loss: 0.7685 - val_roc_auc: 0.8456\n",
      "Epoch 20/50\n",
      "324/324 [==============================] - 2s 5ms/step - loss: 0.0792 - roc_auc: 0.9967 - val_loss: 0.7462 - val_roc_auc: 0.8513\n",
      "Epoch 21/50\n",
      "324/324 [==============================] - 2s 5ms/step - loss: 0.0800 - roc_auc: 0.9961 - val_loss: 0.7735 - val_roc_auc: 0.8521\n",
      "Epoch 22/50\n",
      "324/324 [==============================] - 2s 5ms/step - loss: 0.0656 - roc_auc: 0.9978 - val_loss: 0.8347 - val_roc_auc: 0.8449\n",
      "Epoch 23/50\n",
      "324/324 [==============================] - 2s 5ms/step - loss: 0.0611 - roc_auc: 0.9981 - val_loss: 0.8756 - val_roc_auc: 0.8506\n",
      "Epoch 24/50\n",
      "324/324 [==============================] - 1s 5ms/step - loss: 0.0517 - roc_auc: 0.9984 - val_loss: 0.8651 - val_roc_auc: 0.8456\n",
      "Epoch 25/50\n",
      "324/324 [==============================] - 2s 5ms/step - loss: 0.0546 - roc_auc: 0.9981 - val_loss: 0.9340 - val_roc_auc: 0.8451\n",
      "Epoch 26/50\n",
      "324/324 [==============================] - 2s 5ms/step - loss: 0.0457 - roc_auc: 0.9987 - val_loss: 0.9598 - val_roc_auc: 0.8383\n",
      "Epoch 27/50\n",
      "324/324 [==============================] - 1s 5ms/step - loss: 0.0481 - roc_auc: 0.9987 - val_loss: 0.9193 - val_roc_auc: 0.8530\n",
      "Epoch 28/50\n",
      "324/324 [==============================] - 2s 7ms/step - loss: 0.0377 - roc_auc: 0.9992 - val_loss: 0.9613 - val_roc_auc: 0.8461\n",
      "Epoch 29/50\n",
      "324/324 [==============================] - 2s 5ms/step - loss: 0.0405 - roc_auc: 0.9989 - val_loss: 1.0062 - val_roc_auc: 0.8468\n",
      "Epoch 30/50\n",
      "324/324 [==============================] - 1s 4ms/step - loss: 0.0542 - roc_auc: 0.9979 - val_loss: 1.1083 - val_roc_auc: 0.8384\n",
      "Epoch 31/50\n",
      "324/324 [==============================] - 1s 5ms/step - loss: 0.0423 - roc_auc: 0.9987 - val_loss: 1.1331 - val_roc_auc: 0.8354\n",
      "Epoch 32/50\n",
      "324/324 [==============================] - 1s 5ms/step - loss: 0.0488 - roc_auc: 0.9983 - val_loss: 1.1091 - val_roc_auc: 0.8434\n",
      "Epoch 33/50\n",
      "324/324 [==============================] - 2s 5ms/step - loss: 0.0269 - roc_auc: 0.9996 - val_loss: 1.1221 - val_roc_auc: 0.8415\n",
      "Epoch 34/50\n",
      "324/324 [==============================] - 2s 5ms/step - loss: 0.0369 - roc_auc: 0.9990 - val_loss: 1.0704 - val_roc_auc: 0.8451\n",
      "Epoch 35/50\n",
      "324/324 [==============================] - 2s 5ms/step - loss: 0.0335 - roc_auc: 0.9986 - val_loss: 1.1079 - val_roc_auc: 0.8455\n",
      "Epoch 36/50\n",
      "324/324 [==============================] - 2s 5ms/step - loss: 0.0261 - roc_auc: 0.9992 - val_loss: 1.1078 - val_roc_auc: 0.8459\n",
      "Epoch 37/50\n",
      "324/324 [==============================] - 1s 5ms/step - loss: 0.0414 - roc_auc: 0.9985 - val_loss: 1.2091 - val_roc_auc: 0.8416\n",
      "Epoch 38/50\n",
      "324/324 [==============================] - 1s 4ms/step - loss: 0.0350 - roc_auc: 0.9991 - val_loss: 1.2261 - val_roc_auc: 0.8330\n",
      "Epoch 39/50\n",
      "324/324 [==============================] - 2s 5ms/step - loss: 0.0253 - roc_auc: 0.9995 - val_loss: 1.1938 - val_roc_auc: 0.8408\n",
      "Epoch 40/50\n",
      "324/324 [==============================] - 1s 5ms/step - loss: 0.0290 - roc_auc: 0.9993 - val_loss: 1.2281 - val_roc_auc: 0.8401\n",
      "Epoch 41/50\n",
      "324/324 [==============================] - 1s 5ms/step - loss: 0.0259 - roc_auc: 0.9993 - val_loss: 1.2408 - val_roc_auc: 0.8376\n",
      "Epoch 42/50\n",
      "324/324 [==============================] - 2s 5ms/step - loss: 0.0358 - roc_auc: 0.9990 - val_loss: 1.1789 - val_roc_auc: 0.8477\n",
      "Epoch 43/50\n",
      "324/324 [==============================] - 2s 5ms/step - loss: 0.0327 - roc_auc: 0.9987 - val_loss: 1.1573 - val_roc_auc: 0.8526\n",
      "Epoch 44/50\n",
      "324/324 [==============================] - 1s 4ms/step - loss: 0.0329 - roc_auc: 0.9984 - val_loss: 1.2292 - val_roc_auc: 0.8412\n",
      "Epoch 45/50\n",
      "324/324 [==============================] - 1s 4ms/step - loss: 0.0215 - roc_auc: 0.9993 - val_loss: 1.1943 - val_roc_auc: 0.8481\n",
      "Epoch 46/50\n",
      "324/324 [==============================] - 1s 5ms/step - loss: 0.0179 - roc_auc: 0.9996 - val_loss: 1.2227 - val_roc_auc: 0.8417\n",
      "Epoch 47/50\n",
      "324/324 [==============================] - 2s 5ms/step - loss: 0.0305 - roc_auc: 0.9990 - val_loss: 1.2126 - val_roc_auc: 0.8409\n",
      "Epoch 48/50\n",
      "324/324 [==============================] - 2s 5ms/step - loss: 0.0265 - roc_auc: 0.9992 - val_loss: 1.2443 - val_roc_auc: 0.8407\n",
      "Epoch 49/50\n",
      "324/324 [==============================] - 2s 7ms/step - loss: 0.0151 - roc_auc: 0.9999 - val_loss: 1.2299 - val_roc_auc: 0.8482\n",
      "Epoch 50/50\n",
      "324/324 [==============================] - 2s 5ms/step - loss: 0.0205 - roc_auc: 0.9996 - val_loss: 1.2199 - val_roc_auc: 0.8540\n"
     ]
    }
   ],
   "source": [
    "history = best_model.fit(X_train, y_train, validation_split=0.2, epochs=50)"
   ]
  },
  {
   "cell_type": "markdown",
   "id": "978ace36",
   "metadata": {
    "papermill": {
     "duration": 0.357366,
     "end_time": "2021-10-15T12:04:04.421074",
     "exception": false,
     "start_time": "2021-10-15T12:04:04.063708",
     "status": "completed"
    },
    "tags": []
   },
   "source": [
    "# Predictions on Validation Set"
   ]
  },
  {
   "cell_type": "code",
   "execution_count": 19,
   "id": "d94da53f",
   "metadata": {
    "execution": {
     "iopub.execute_input": "2021-10-15T12:04:05.151884Z",
     "iopub.status.busy": "2021-10-15T12:04:05.150969Z",
     "iopub.status.idle": "2021-10-15T12:04:05.388601Z",
     "shell.execute_reply": "2021-10-15T12:04:05.387796Z",
     "shell.execute_reply.started": "2021-10-15T11:49:16.371721Z"
    },
    "papermill": {
     "duration": 0.607233,
     "end_time": "2021-10-15T12:04:05.388737",
     "exception": false,
     "start_time": "2021-10-15T12:04:04.781504",
     "status": "completed"
    },
    "tags": []
   },
   "outputs": [
    {
     "data": {
      "text/html": [
       "<div>\n",
       "<style scoped>\n",
       "    .dataframe tbody tr th:only-of-type {\n",
       "        vertical-align: middle;\n",
       "    }\n",
       "\n",
       "    .dataframe tbody tr th {\n",
       "        vertical-align: top;\n",
       "    }\n",
       "\n",
       "    .dataframe thead th {\n",
       "        text-align: right;\n",
       "    }\n",
       "</style>\n",
       "<table border=\"1\" class=\"dataframe\">\n",
       "  <thead>\n",
       "    <tr style=\"text-align: right;\">\n",
       "      <th></th>\n",
       "      <th>BraTS21ID</th>\n",
       "      <th>MGMT_value</th>\n",
       "    </tr>\n",
       "  </thead>\n",
       "  <tbody>\n",
       "    <tr>\n",
       "      <th>0</th>\n",
       "      <td>0</td>\n",
       "      <td>1.000000</td>\n",
       "    </tr>\n",
       "    <tr>\n",
       "      <th>1</th>\n",
       "      <td>2</td>\n",
       "      <td>0.800000</td>\n",
       "    </tr>\n",
       "    <tr>\n",
       "      <th>2</th>\n",
       "      <td>3</td>\n",
       "      <td>0.600000</td>\n",
       "    </tr>\n",
       "    <tr>\n",
       "      <th>3</th>\n",
       "      <td>5</td>\n",
       "      <td>0.800000</td>\n",
       "    </tr>\n",
       "    <tr>\n",
       "      <th>4</th>\n",
       "      <td>6</td>\n",
       "      <td>0.200000</td>\n",
       "    </tr>\n",
       "    <tr>\n",
       "      <th>...</th>\n",
       "      <td>...</td>\n",
       "      <td>...</td>\n",
       "    </tr>\n",
       "    <tr>\n",
       "      <th>535</th>\n",
       "      <td>1004</td>\n",
       "      <td>0.142857</td>\n",
       "    </tr>\n",
       "    <tr>\n",
       "      <th>536</th>\n",
       "      <td>1005</td>\n",
       "      <td>0.000000</td>\n",
       "    </tr>\n",
       "    <tr>\n",
       "      <th>537</th>\n",
       "      <td>1007</td>\n",
       "      <td>0.750000</td>\n",
       "    </tr>\n",
       "    <tr>\n",
       "      <th>538</th>\n",
       "      <td>1008</td>\n",
       "      <td>0.500000</td>\n",
       "    </tr>\n",
       "    <tr>\n",
       "      <th>539</th>\n",
       "      <td>1010</td>\n",
       "      <td>0.500000</td>\n",
       "    </tr>\n",
       "  </tbody>\n",
       "</table>\n",
       "<p>540 rows × 2 columns</p>\n",
       "</div>"
      ],
      "text/plain": [
       "     BraTS21ID  MGMT_value\n",
       "0            0    1.000000\n",
       "1            2    0.800000\n",
       "2            3    0.600000\n",
       "3            5    0.800000\n",
       "4            6    0.200000\n",
       "..         ...         ...\n",
       "535       1004    0.142857\n",
       "536       1005    0.000000\n",
       "537       1007    0.750000\n",
       "538       1008    0.500000\n",
       "539       1010    0.500000\n",
       "\n",
       "[540 rows x 2 columns]"
      ]
     },
     "execution_count": 19,
     "metadata": {},
     "output_type": "execute_result"
    }
   ],
   "source": [
    "y_pred = best_model.predict(X_valid)\n",
    "\n",
    "pred = np.argmax(y_pred, axis=1)\n",
    "\n",
    "result = pd.DataFrame(trainidt_valid)\n",
    "result[1] = pred\n",
    "\n",
    "result.columns = [\"BraTS21ID\", \"MGMT_value\"]\n",
    "result2 = result.groupby(\"BraTS21ID\", as_index=False).mean()\n",
    "result2"
   ]
  },
  {
   "cell_type": "code",
   "execution_count": 20,
   "id": "c3b404af",
   "metadata": {
    "execution": {
     "iopub.execute_input": "2021-10-15T12:04:06.158306Z",
     "iopub.status.busy": "2021-10-15T12:04:06.156895Z",
     "iopub.status.idle": "2021-10-15T12:04:06.176073Z",
     "shell.execute_reply": "2021-10-15T12:04:06.176500Z",
     "shell.execute_reply.started": "2021-10-15T11:49:25.951789Z"
    },
    "papermill": {
     "duration": 0.426562,
     "end_time": "2021-10-15T12:04:06.176645",
     "exception": false,
     "start_time": "2021-10-15T12:04:05.750083",
     "status": "completed"
    },
    "tags": []
   },
   "outputs": [
    {
     "data": {
      "text/html": [
       "<div>\n",
       "<style scoped>\n",
       "    .dataframe tbody tr th:only-of-type {\n",
       "        vertical-align: middle;\n",
       "    }\n",
       "\n",
       "    .dataframe tbody tr th {\n",
       "        vertical-align: top;\n",
       "    }\n",
       "\n",
       "    .dataframe thead th {\n",
       "        text-align: right;\n",
       "    }\n",
       "</style>\n",
       "<table border=\"1\" class=\"dataframe\">\n",
       "  <thead>\n",
       "    <tr style=\"text-align: right;\">\n",
       "      <th></th>\n",
       "      <th>BraTS21ID</th>\n",
       "      <th>MGMT_value_x</th>\n",
       "      <th>MGMT_value_y</th>\n",
       "      <th>kfold</th>\n",
       "    </tr>\n",
       "  </thead>\n",
       "  <tbody>\n",
       "    <tr>\n",
       "      <th>0</th>\n",
       "      <td>0</td>\n",
       "      <td>1.000000</td>\n",
       "      <td>1</td>\n",
       "      <td>1</td>\n",
       "    </tr>\n",
       "    <tr>\n",
       "      <th>1</th>\n",
       "      <td>2</td>\n",
       "      <td>0.800000</td>\n",
       "      <td>1</td>\n",
       "      <td>4</td>\n",
       "    </tr>\n",
       "    <tr>\n",
       "      <th>2</th>\n",
       "      <td>3</td>\n",
       "      <td>0.600000</td>\n",
       "      <td>0</td>\n",
       "      <td>0</td>\n",
       "    </tr>\n",
       "    <tr>\n",
       "      <th>3</th>\n",
       "      <td>5</td>\n",
       "      <td>0.800000</td>\n",
       "      <td>1</td>\n",
       "      <td>2</td>\n",
       "    </tr>\n",
       "    <tr>\n",
       "      <th>4</th>\n",
       "      <td>6</td>\n",
       "      <td>0.200000</td>\n",
       "      <td>1</td>\n",
       "      <td>3</td>\n",
       "    </tr>\n",
       "    <tr>\n",
       "      <th>...</th>\n",
       "      <td>...</td>\n",
       "      <td>...</td>\n",
       "      <td>...</td>\n",
       "      <td>...</td>\n",
       "    </tr>\n",
       "    <tr>\n",
       "      <th>535</th>\n",
       "      <td>1004</td>\n",
       "      <td>0.142857</td>\n",
       "      <td>0</td>\n",
       "      <td>4</td>\n",
       "    </tr>\n",
       "    <tr>\n",
       "      <th>536</th>\n",
       "      <td>1005</td>\n",
       "      <td>0.000000</td>\n",
       "      <td>1</td>\n",
       "      <td>0</td>\n",
       "    </tr>\n",
       "    <tr>\n",
       "      <th>537</th>\n",
       "      <td>1007</td>\n",
       "      <td>0.750000</td>\n",
       "      <td>1</td>\n",
       "      <td>0</td>\n",
       "    </tr>\n",
       "    <tr>\n",
       "      <th>538</th>\n",
       "      <td>1008</td>\n",
       "      <td>0.500000</td>\n",
       "      <td>1</td>\n",
       "      <td>4</td>\n",
       "    </tr>\n",
       "    <tr>\n",
       "      <th>539</th>\n",
       "      <td>1010</td>\n",
       "      <td>0.500000</td>\n",
       "      <td>0</td>\n",
       "      <td>1</td>\n",
       "    </tr>\n",
       "  </tbody>\n",
       "</table>\n",
       "<p>540 rows × 4 columns</p>\n",
       "</div>"
      ],
      "text/plain": [
       "     BraTS21ID  MGMT_value_x  MGMT_value_y  kfold\n",
       "0            0      1.000000             1      1\n",
       "1            2      0.800000             1      4\n",
       "2            3      0.600000             0      0\n",
       "3            5      0.800000             1      2\n",
       "4            6      0.200000             1      3\n",
       "..         ...           ...           ...    ...\n",
       "535       1004      0.142857             0      4\n",
       "536       1005      0.000000             1      0\n",
       "537       1007      0.750000             1      0\n",
       "538       1008      0.500000             1      4\n",
       "539       1010      0.500000             0      1\n",
       "\n",
       "[540 rows x 4 columns]"
      ]
     },
     "execution_count": 20,
     "metadata": {},
     "output_type": "execute_result"
    }
   ],
   "source": [
    "result2 = result2.merge(train_df, on=\"BraTS21ID\")\n",
    "result2"
   ]
  },
  {
   "cell_type": "code",
   "execution_count": 21,
   "id": "2e583246",
   "metadata": {
    "execution": {
     "iopub.execute_input": "2021-10-15T12:04:06.924969Z",
     "iopub.status.busy": "2021-10-15T12:04:06.924453Z",
     "iopub.status.idle": "2021-10-15T12:04:06.932231Z",
     "shell.execute_reply": "2021-10-15T12:04:06.931779Z",
     "shell.execute_reply.started": "2021-10-15T11:49:27.085424Z"
    },
    "papermill": {
     "duration": 0.395108,
     "end_time": "2021-10-15T12:04:06.932341",
     "exception": false,
     "start_time": "2021-10-15T12:04:06.537233",
     "status": "completed"
    },
    "tags": []
   },
   "outputs": [
    {
     "name": "stdout",
     "output_type": "stream",
     "text": [
      "Validation AUC=0.9045065413088132\n"
     ]
    }
   ],
   "source": [
    "auc = roc_auc_score(\n",
    "    result2.MGMT_value_y,\n",
    "    result2.MGMT_value_x,\n",
    ")\n",
    "print(f\"Validation AUC={auc}\")\n"
   ]
  },
  {
   "cell_type": "markdown",
   "id": "332f8d8c",
   "metadata": {
    "papermill": {
     "duration": 0.357797,
     "end_time": "2021-10-15T12:04:07.651514",
     "exception": false,
     "start_time": "2021-10-15T12:04:07.293717",
     "status": "completed"
    },
    "tags": []
   },
   "source": [
    "# Predictions on the Test Set"
   ]
  },
  {
   "cell_type": "code",
   "execution_count": 22,
   "id": "7f7d68d5",
   "metadata": {
    "execution": {
     "iopub.execute_input": "2021-10-15T12:04:08.380235Z",
     "iopub.status.busy": "2021-10-15T12:04:08.379380Z",
     "iopub.status.idle": "2021-10-15T12:04:08.562563Z",
     "shell.execute_reply": "2021-10-15T12:04:08.563354Z",
     "shell.execute_reply.started": "2021-10-15T11:49:41.683457Z"
    },
    "papermill": {
     "duration": 0.549495,
     "end_time": "2021-10-15T12:04:08.563529",
     "exception": false,
     "start_time": "2021-10-15T12:04:08.014034",
     "status": "completed"
    },
    "tags": []
   },
   "outputs": [
    {
     "data": {
      "text/plain": [
       "array([0, 1, 1, ..., 1, 0, 0])"
      ]
     },
     "execution_count": 22,
     "metadata": {},
     "output_type": "execute_result"
    }
   ],
   "source": [
    "y_pred = best_model.predict(X_test)\n",
    "\n",
    "pred = np.argmax(y_pred, axis=1) #\n",
    "\n",
    "result = pd.DataFrame(testidt)\n",
    "result[1] = pred\n",
    "pred"
   ]
  },
  {
   "cell_type": "markdown",
   "id": "075ac973",
   "metadata": {
    "papermill": {
     "duration": 0.364072,
     "end_time": "2021-10-15T12:04:09.291580",
     "exception": false,
     "start_time": "2021-10-15T12:04:08.927508",
     "status": "completed"
    },
    "tags": []
   },
   "source": [
    "# Submission File"
   ]
  },
  {
   "cell_type": "code",
   "execution_count": 23,
   "id": "10041314",
   "metadata": {
    "execution": {
     "iopub.execute_input": "2021-10-15T12:04:10.042608Z",
     "iopub.status.busy": "2021-10-15T12:04:10.031229Z",
     "iopub.status.idle": "2021-10-15T12:04:10.045772Z",
     "shell.execute_reply": "2021-10-15T12:04:10.046233Z",
     "shell.execute_reply.started": "2021-10-15T11:56:10.566036Z"
    },
    "papermill": {
     "duration": 0.39862,
     "end_time": "2021-10-15T12:04:10.046381",
     "exception": false,
     "start_time": "2021-10-15T12:04:09.647761",
     "status": "completed"
    },
    "tags": []
   },
   "outputs": [
    {
     "data": {
      "text/html": [
       "<div>\n",
       "<style scoped>\n",
       "    .dataframe tbody tr th:only-of-type {\n",
       "        vertical-align: middle;\n",
       "    }\n",
       "\n",
       "    .dataframe tbody tr th {\n",
       "        vertical-align: top;\n",
       "    }\n",
       "\n",
       "    .dataframe thead th {\n",
       "        text-align: right;\n",
       "    }\n",
       "</style>\n",
       "<table border=\"1\" class=\"dataframe\">\n",
       "  <thead>\n",
       "    <tr style=\"text-align: right;\">\n",
       "      <th></th>\n",
       "      <th>BraTS21ID</th>\n",
       "      <th>MGMT_value</th>\n",
       "    </tr>\n",
       "  </thead>\n",
       "  <tbody>\n",
       "    <tr>\n",
       "      <th>0</th>\n",
       "      <td>1</td>\n",
       "      <td>0.909091</td>\n",
       "    </tr>\n",
       "    <tr>\n",
       "      <th>1</th>\n",
       "      <td>13</td>\n",
       "      <td>0.500000</td>\n",
       "    </tr>\n",
       "    <tr>\n",
       "      <th>2</th>\n",
       "      <td>15</td>\n",
       "      <td>0.921569</td>\n",
       "    </tr>\n",
       "    <tr>\n",
       "      <th>3</th>\n",
       "      <td>27</td>\n",
       "      <td>0.549020</td>\n",
       "    </tr>\n",
       "    <tr>\n",
       "      <th>4</th>\n",
       "      <td>37</td>\n",
       "      <td>0.727273</td>\n",
       "    </tr>\n",
       "    <tr>\n",
       "      <th>...</th>\n",
       "      <td>...</td>\n",
       "      <td>...</td>\n",
       "    </tr>\n",
       "    <tr>\n",
       "      <th>82</th>\n",
       "      <td>826</td>\n",
       "      <td>0.571429</td>\n",
       "    </tr>\n",
       "    <tr>\n",
       "      <th>83</th>\n",
       "      <td>829</td>\n",
       "      <td>0.800000</td>\n",
       "    </tr>\n",
       "    <tr>\n",
       "      <th>84</th>\n",
       "      <td>833</td>\n",
       "      <td>0.625000</td>\n",
       "    </tr>\n",
       "    <tr>\n",
       "      <th>85</th>\n",
       "      <td>997</td>\n",
       "      <td>0.500000</td>\n",
       "    </tr>\n",
       "    <tr>\n",
       "      <th>86</th>\n",
       "      <td>1006</td>\n",
       "      <td>0.380952</td>\n",
       "    </tr>\n",
       "  </tbody>\n",
       "</table>\n",
       "<p>87 rows × 2 columns</p>\n",
       "</div>"
      ],
      "text/plain": [
       "    BraTS21ID  MGMT_value\n",
       "0           1    0.909091\n",
       "1          13    0.500000\n",
       "2          15    0.921569\n",
       "3          27    0.549020\n",
       "4          37    0.727273\n",
       "..        ...         ...\n",
       "82        826    0.571429\n",
       "83        829    0.800000\n",
       "84        833    0.625000\n",
       "85        997    0.500000\n",
       "86       1006    0.380952\n",
       "\n",
       "[87 rows x 2 columns]"
      ]
     },
     "execution_count": 23,
     "metadata": {},
     "output_type": "execute_result"
    }
   ],
   "source": [
    "result.columns=['BraTS21ID','MGMT_value']\n",
    "\n",
    "result2 = result.groupby('BraTS21ID',as_index=False).mean()\n",
    "result2['BraTS21ID'] = sample_submission['BraTS21ID']\n",
    "\n",
    "result2"
   ]
  },
  {
   "cell_type": "code",
   "execution_count": 24,
   "id": "c072a572",
   "metadata": {
    "execution": {
     "iopub.execute_input": "2021-10-15T12:04:10.776049Z",
     "iopub.status.busy": "2021-10-15T12:04:10.775256Z",
     "iopub.status.idle": "2021-10-15T12:04:10.788049Z",
     "shell.execute_reply": "2021-10-15T12:04:10.787589Z",
     "shell.execute_reply.started": "2021-10-15T11:56:11.223087Z"
    },
    "papermill": {
     "duration": 0.374688,
     "end_time": "2021-10-15T12:04:10.788209",
     "exception": false,
     "start_time": "2021-10-15T12:04:10.413521",
     "status": "completed"
    },
    "tags": []
   },
   "outputs": [
    {
     "data": {
      "text/html": [
       "<div>\n",
       "<style scoped>\n",
       "    .dataframe tbody tr th:only-of-type {\n",
       "        vertical-align: middle;\n",
       "    }\n",
       "\n",
       "    .dataframe tbody tr th {\n",
       "        vertical-align: top;\n",
       "    }\n",
       "\n",
       "    .dataframe thead th {\n",
       "        text-align: right;\n",
       "    }\n",
       "</style>\n",
       "<table border=\"1\" class=\"dataframe\">\n",
       "  <thead>\n",
       "    <tr style=\"text-align: right;\">\n",
       "      <th></th>\n",
       "      <th>BraTS21ID</th>\n",
       "      <th>MGMT_value</th>\n",
       "    </tr>\n",
       "  </thead>\n",
       "  <tbody>\n",
       "    <tr>\n",
       "      <th>0</th>\n",
       "      <td>1</td>\n",
       "      <td>0.9</td>\n",
       "    </tr>\n",
       "    <tr>\n",
       "      <th>1</th>\n",
       "      <td>13</td>\n",
       "      <td>0.5</td>\n",
       "    </tr>\n",
       "    <tr>\n",
       "      <th>2</th>\n",
       "      <td>15</td>\n",
       "      <td>0.9</td>\n",
       "    </tr>\n",
       "    <tr>\n",
       "      <th>3</th>\n",
       "      <td>27</td>\n",
       "      <td>0.5</td>\n",
       "    </tr>\n",
       "    <tr>\n",
       "      <th>4</th>\n",
       "      <td>37</td>\n",
       "      <td>0.7</td>\n",
       "    </tr>\n",
       "    <tr>\n",
       "      <th>...</th>\n",
       "      <td>...</td>\n",
       "      <td>...</td>\n",
       "    </tr>\n",
       "    <tr>\n",
       "      <th>82</th>\n",
       "      <td>826</td>\n",
       "      <td>0.6</td>\n",
       "    </tr>\n",
       "    <tr>\n",
       "      <th>83</th>\n",
       "      <td>829</td>\n",
       "      <td>0.8</td>\n",
       "    </tr>\n",
       "    <tr>\n",
       "      <th>84</th>\n",
       "      <td>833</td>\n",
       "      <td>0.6</td>\n",
       "    </tr>\n",
       "    <tr>\n",
       "      <th>85</th>\n",
       "      <td>997</td>\n",
       "      <td>0.5</td>\n",
       "    </tr>\n",
       "    <tr>\n",
       "      <th>86</th>\n",
       "      <td>1006</td>\n",
       "      <td>0.4</td>\n",
       "    </tr>\n",
       "  </tbody>\n",
       "</table>\n",
       "<p>87 rows × 2 columns</p>\n",
       "</div>"
      ],
      "text/plain": [
       "    BraTS21ID  MGMT_value\n",
       "0           1         0.9\n",
       "1          13         0.5\n",
       "2          15         0.9\n",
       "3          27         0.5\n",
       "4          37         0.7\n",
       "..        ...         ...\n",
       "82        826         0.6\n",
       "83        829         0.8\n",
       "84        833         0.6\n",
       "85        997         0.5\n",
       "86       1006         0.4\n",
       "\n",
       "[87 rows x 2 columns]"
      ]
     },
     "execution_count": 24,
     "metadata": {},
     "output_type": "execute_result"
    }
   ],
   "source": [
    "# Rounding... 0.907866 -> 0.9\n",
    "result2['MGMT_value'] = result2['MGMT_value'].apply(lambda x:round(x*10)/10)\n",
    "# result2['MGMT_value'] = result2['MGMT_value'] # No rounding\n",
    "result2.to_csv('submission.csv',index=False)\n",
    "result2"
   ]
  },
  {
   "cell_type": "code",
   "execution_count": null,
   "id": "ff5d5352",
   "metadata": {
    "papermill": {
     "duration": 0.358879,
     "end_time": "2021-10-15T12:04:11.511035",
     "exception": false,
     "start_time": "2021-10-15T12:04:11.152156",
     "status": "completed"
    },
    "tags": []
   },
   "outputs": [],
   "source": []
  },
  {
   "cell_type": "code",
   "execution_count": null,
   "id": "dfe58124",
   "metadata": {
    "papermill": {
     "duration": 0.357957,
     "end_time": "2021-10-15T12:04:12.227722",
     "exception": false,
     "start_time": "2021-10-15T12:04:11.869765",
     "status": "completed"
    },
    "tags": []
   },
   "outputs": [],
   "source": []
  }
 ],
 "metadata": {
  "kernelspec": {
   "display_name": "Python 3 (ipykernel)",
   "language": "python",
   "name": "python3"
  },
  "language_info": {
   "codemirror_mode": {
    "name": "ipython",
    "version": 3
   },
   "file_extension": ".py",
   "mimetype": "text/x-python",
   "name": "python",
   "nbconvert_exporter": "python",
   "pygments_lexer": "ipython3",
   "version": "3.8.3"
  },
  "papermill": {
   "default_parameters": {},
   "duration": 463.823242,
   "end_time": "2021-10-15T12:04:15.996468",
   "environment_variables": {},
   "exception": null,
   "input_path": "__notebook__.ipynb",
   "output_path": "__notebook__.ipynb",
   "parameters": {},
   "start_time": "2021-10-15T11:56:32.173226",
   "version": "2.3.3"
  },
  "widgets": {
   "application/vnd.jupyter.widget-state+json": {
    "state": {
     "1890421c0f394f8ba886cfa8c49bf8bb": {
      "model_module": "@jupyter-widgets/controls",
      "model_module_version": "1.5.0",
      "model_name": "HTMLModel",
      "state": {
       "_dom_classes": [],
       "_model_module": "@jupyter-widgets/controls",
       "_model_module_version": "1.5.0",
       "_model_name": "HTMLModel",
       "_view_count": null,
       "_view_module": "@jupyter-widgets/controls",
       "_view_module_version": "1.5.0",
       "_view_name": "HTMLView",
       "description": "",
       "description_tooltip": null,
       "layout": "IPY_MODEL_be0b88e2166743328a146e7cbe0df6be",
       "placeholder": "​",
       "style": "IPY_MODEL_c14660a97955483b93fc341f11da524f",
       "value": "100%"
      }
     },
     "1b284ba3f7114b77aea9bc75084b1a75": {
      "model_module": "@jupyter-widgets/controls",
      "model_module_version": "1.5.0",
      "model_name": "FloatProgressModel",
      "state": {
       "_dom_classes": [],
       "_model_module": "@jupyter-widgets/controls",
       "_model_module_version": "1.5.0",
       "_model_name": "FloatProgressModel",
       "_view_count": null,
       "_view_module": "@jupyter-widgets/controls",
       "_view_module_version": "1.5.0",
       "_view_name": "ProgressView",
       "bar_style": "success",
       "description": "",
       "description_tooltip": null,
       "layout": "IPY_MODEL_f403093def71462294ee7d7b82b1126c",
       "max": 582,
       "min": 0,
       "orientation": "horizontal",
       "style": "IPY_MODEL_f5a18c4301474a0dbcf37153f678d293",
       "value": 582
      }
     },
     "1e32ec6845f044b4b5405d6460cdd576": {
      "model_module": "@jupyter-widgets/base",
      "model_module_version": "1.2.0",
      "model_name": "LayoutModel",
      "state": {
       "_model_module": "@jupyter-widgets/base",
       "_model_module_version": "1.2.0",
       "_model_name": "LayoutModel",
       "_view_count": null,
       "_view_module": "@jupyter-widgets/base",
       "_view_module_version": "1.2.0",
       "_view_name": "LayoutView",
       "align_content": null,
       "align_items": null,
       "align_self": null,
       "border": null,
       "bottom": null,
       "display": null,
       "flex": null,
       "flex_flow": null,
       "grid_area": null,
       "grid_auto_columns": null,
       "grid_auto_flow": null,
       "grid_auto_rows": null,
       "grid_column": null,
       "grid_gap": null,
       "grid_row": null,
       "grid_template_areas": null,
       "grid_template_columns": null,
       "grid_template_rows": null,
       "height": null,
       "justify_content": null,
       "justify_items": null,
       "left": null,
       "margin": null,
       "max_height": null,
       "max_width": null,
       "min_height": null,
       "min_width": null,
       "object_fit": null,
       "object_position": null,
       "order": null,
       "overflow": null,
       "overflow_x": null,
       "overflow_y": null,
       "padding": null,
       "right": null,
       "top": null,
       "visibility": null,
       "width": null
      }
     },
     "35561bce66024691b03c0cabc1054c5f": {
      "model_module": "@jupyter-widgets/controls",
      "model_module_version": "1.5.0",
      "model_name": "FloatProgressModel",
      "state": {
       "_dom_classes": [],
       "_model_module": "@jupyter-widgets/controls",
       "_model_module_version": "1.5.0",
       "_model_name": "FloatProgressModel",
       "_view_count": null,
       "_view_module": "@jupyter-widgets/controls",
       "_view_module_version": "1.5.0",
       "_view_name": "ProgressView",
       "bar_style": "success",
       "description": "",
       "description_tooltip": null,
       "layout": "IPY_MODEL_e8b60cf570e24cb59185bfc35258b3bd",
       "max": 87,
       "min": 0,
       "orientation": "horizontal",
       "style": "IPY_MODEL_b22fa7cbf4a64a3ca68f7d22121e95ad",
       "value": 87
      }
     },
     "478f5a0175a14b2495c6c35eafb653d9": {
      "model_module": "@jupyter-widgets/controls",
      "model_module_version": "1.5.0",
      "model_name": "HTMLModel",
      "state": {
       "_dom_classes": [],
       "_model_module": "@jupyter-widgets/controls",
       "_model_module_version": "1.5.0",
       "_model_name": "HTMLModel",
       "_view_count": null,
       "_view_module": "@jupyter-widgets/controls",
       "_view_module_version": "1.5.0",
       "_view_name": "HTMLView",
       "description": "",
       "description_tooltip": null,
       "layout": "IPY_MODEL_dc8aeb18d3bd45468024a3b6e95b3c72",
       "placeholder": "​",
       "style": "IPY_MODEL_701289451b6949baa2bdf292dca46e7b",
       "value": "100%"
      }
     },
     "49724d45a0c6446da0d012e2fc566731": {
      "model_module": "@jupyter-widgets/controls",
      "model_module_version": "1.5.0",
      "model_name": "HTMLModel",
      "state": {
       "_dom_classes": [],
       "_model_module": "@jupyter-widgets/controls",
       "_model_module_version": "1.5.0",
       "_model_name": "HTMLModel",
       "_view_count": null,
       "_view_module": "@jupyter-widgets/controls",
       "_view_module_version": "1.5.0",
       "_view_name": "HTMLView",
       "description": "",
       "description_tooltip": null,
       "layout": "IPY_MODEL_f621948514c3462b8cd4513e8ed350f6",
       "placeholder": "​",
       "style": "IPY_MODEL_7e29a2db9a5846999e4d310ccdd243fe",
       "value": " 87/87 [00:18&lt;00:00,  8.40it/s]"
      }
     },
     "4ad0b01156b3486ea60d93fdc367b327": {
      "model_module": "@jupyter-widgets/controls",
      "model_module_version": "1.5.0",
      "model_name": "DescriptionStyleModel",
      "state": {
       "_model_module": "@jupyter-widgets/controls",
       "_model_module_version": "1.5.0",
       "_model_name": "DescriptionStyleModel",
       "_view_count": null,
       "_view_module": "@jupyter-widgets/base",
       "_view_module_version": "1.2.0",
       "_view_name": "StyleView",
       "description_width": ""
      }
     },
     "701289451b6949baa2bdf292dca46e7b": {
      "model_module": "@jupyter-widgets/controls",
      "model_module_version": "1.5.0",
      "model_name": "DescriptionStyleModel",
      "state": {
       "_model_module": "@jupyter-widgets/controls",
       "_model_module_version": "1.5.0",
       "_model_name": "DescriptionStyleModel",
       "_view_count": null,
       "_view_module": "@jupyter-widgets/base",
       "_view_module_version": "1.2.0",
       "_view_name": "StyleView",
       "description_width": ""
      }
     },
     "787f9e3934aa4683b3333fe0fd9a5a2e": {
      "model_module": "@jupyter-widgets/controls",
      "model_module_version": "1.5.0",
      "model_name": "HBoxModel",
      "state": {
       "_dom_classes": [],
       "_model_module": "@jupyter-widgets/controls",
       "_model_module_version": "1.5.0",
       "_model_name": "HBoxModel",
       "_view_count": null,
       "_view_module": "@jupyter-widgets/controls",
       "_view_module_version": "1.5.0",
       "_view_name": "HBoxView",
       "box_style": "",
       "children": [
        "IPY_MODEL_478f5a0175a14b2495c6c35eafb653d9",
        "IPY_MODEL_1b284ba3f7114b77aea9bc75084b1a75",
        "IPY_MODEL_e1aacc533e2f4ceebcbec0a67c113bdf"
       ],
       "layout": "IPY_MODEL_db123bbb09a34118a18ea30cb9ddbe0e"
      }
     },
     "7ae0475010d742919af039b419a7b7f0": {
      "model_module": "@jupyter-widgets/controls",
      "model_module_version": "1.5.0",
      "model_name": "HBoxModel",
      "state": {
       "_dom_classes": [],
       "_model_module": "@jupyter-widgets/controls",
       "_model_module_version": "1.5.0",
       "_model_name": "HBoxModel",
       "_view_count": null,
       "_view_module": "@jupyter-widgets/controls",
       "_view_module_version": "1.5.0",
       "_view_name": "HBoxView",
       "box_style": "",
       "children": [
        "IPY_MODEL_1890421c0f394f8ba886cfa8c49bf8bb",
        "IPY_MODEL_35561bce66024691b03c0cabc1054c5f",
        "IPY_MODEL_49724d45a0c6446da0d012e2fc566731"
       ],
       "layout": "IPY_MODEL_8981e9b0c9154ddabe15ba491c1363e5"
      }
     },
     "7e29a2db9a5846999e4d310ccdd243fe": {
      "model_module": "@jupyter-widgets/controls",
      "model_module_version": "1.5.0",
      "model_name": "DescriptionStyleModel",
      "state": {
       "_model_module": "@jupyter-widgets/controls",
       "_model_module_version": "1.5.0",
       "_model_name": "DescriptionStyleModel",
       "_view_count": null,
       "_view_module": "@jupyter-widgets/base",
       "_view_module_version": "1.2.0",
       "_view_name": "StyleView",
       "description_width": ""
      }
     },
     "8981e9b0c9154ddabe15ba491c1363e5": {
      "model_module": "@jupyter-widgets/base",
      "model_module_version": "1.2.0",
      "model_name": "LayoutModel",
      "state": {
       "_model_module": "@jupyter-widgets/base",
       "_model_module_version": "1.2.0",
       "_model_name": "LayoutModel",
       "_view_count": null,
       "_view_module": "@jupyter-widgets/base",
       "_view_module_version": "1.2.0",
       "_view_name": "LayoutView",
       "align_content": null,
       "align_items": null,
       "align_self": null,
       "border": null,
       "bottom": null,
       "display": null,
       "flex": null,
       "flex_flow": null,
       "grid_area": null,
       "grid_auto_columns": null,
       "grid_auto_flow": null,
       "grid_auto_rows": null,
       "grid_column": null,
       "grid_gap": null,
       "grid_row": null,
       "grid_template_areas": null,
       "grid_template_columns": null,
       "grid_template_rows": null,
       "height": null,
       "justify_content": null,
       "justify_items": null,
       "left": null,
       "margin": null,
       "max_height": null,
       "max_width": null,
       "min_height": null,
       "min_width": null,
       "object_fit": null,
       "object_position": null,
       "order": null,
       "overflow": null,
       "overflow_x": null,
       "overflow_y": null,
       "padding": null,
       "right": null,
       "top": null,
       "visibility": null,
       "width": null
      }
     },
     "b22fa7cbf4a64a3ca68f7d22121e95ad": {
      "model_module": "@jupyter-widgets/controls",
      "model_module_version": "1.5.0",
      "model_name": "ProgressStyleModel",
      "state": {
       "_model_module": "@jupyter-widgets/controls",
       "_model_module_version": "1.5.0",
       "_model_name": "ProgressStyleModel",
       "_view_count": null,
       "_view_module": "@jupyter-widgets/base",
       "_view_module_version": "1.2.0",
       "_view_name": "StyleView",
       "bar_color": null,
       "description_width": ""
      }
     },
     "be0b88e2166743328a146e7cbe0df6be": {
      "model_module": "@jupyter-widgets/base",
      "model_module_version": "1.2.0",
      "model_name": "LayoutModel",
      "state": {
       "_model_module": "@jupyter-widgets/base",
       "_model_module_version": "1.2.0",
       "_model_name": "LayoutModel",
       "_view_count": null,
       "_view_module": "@jupyter-widgets/base",
       "_view_module_version": "1.2.0",
       "_view_name": "LayoutView",
       "align_content": null,
       "align_items": null,
       "align_self": null,
       "border": null,
       "bottom": null,
       "display": null,
       "flex": null,
       "flex_flow": null,
       "grid_area": null,
       "grid_auto_columns": null,
       "grid_auto_flow": null,
       "grid_auto_rows": null,
       "grid_column": null,
       "grid_gap": null,
       "grid_row": null,
       "grid_template_areas": null,
       "grid_template_columns": null,
       "grid_template_rows": null,
       "height": null,
       "justify_content": null,
       "justify_items": null,
       "left": null,
       "margin": null,
       "max_height": null,
       "max_width": null,
       "min_height": null,
       "min_width": null,
       "object_fit": null,
       "object_position": null,
       "order": null,
       "overflow": null,
       "overflow_x": null,
       "overflow_y": null,
       "padding": null,
       "right": null,
       "top": null,
       "visibility": null,
       "width": null
      }
     },
     "c14660a97955483b93fc341f11da524f": {
      "model_module": "@jupyter-widgets/controls",
      "model_module_version": "1.5.0",
      "model_name": "DescriptionStyleModel",
      "state": {
       "_model_module": "@jupyter-widgets/controls",
       "_model_module_version": "1.5.0",
       "_model_name": "DescriptionStyleModel",
       "_view_count": null,
       "_view_module": "@jupyter-widgets/base",
       "_view_module_version": "1.2.0",
       "_view_name": "StyleView",
       "description_width": ""
      }
     },
     "db123bbb09a34118a18ea30cb9ddbe0e": {
      "model_module": "@jupyter-widgets/base",
      "model_module_version": "1.2.0",
      "model_name": "LayoutModel",
      "state": {
       "_model_module": "@jupyter-widgets/base",
       "_model_module_version": "1.2.0",
       "_model_name": "LayoutModel",
       "_view_count": null,
       "_view_module": "@jupyter-widgets/base",
       "_view_module_version": "1.2.0",
       "_view_name": "LayoutView",
       "align_content": null,
       "align_items": null,
       "align_self": null,
       "border": null,
       "bottom": null,
       "display": null,
       "flex": null,
       "flex_flow": null,
       "grid_area": null,
       "grid_auto_columns": null,
       "grid_auto_flow": null,
       "grid_auto_rows": null,
       "grid_column": null,
       "grid_gap": null,
       "grid_row": null,
       "grid_template_areas": null,
       "grid_template_columns": null,
       "grid_template_rows": null,
       "height": null,
       "justify_content": null,
       "justify_items": null,
       "left": null,
       "margin": null,
       "max_height": null,
       "max_width": null,
       "min_height": null,
       "min_width": null,
       "object_fit": null,
       "object_position": null,
       "order": null,
       "overflow": null,
       "overflow_x": null,
       "overflow_y": null,
       "padding": null,
       "right": null,
       "top": null,
       "visibility": null,
       "width": null
      }
     },
     "dc8aeb18d3bd45468024a3b6e95b3c72": {
      "model_module": "@jupyter-widgets/base",
      "model_module_version": "1.2.0",
      "model_name": "LayoutModel",
      "state": {
       "_model_module": "@jupyter-widgets/base",
       "_model_module_version": "1.2.0",
       "_model_name": "LayoutModel",
       "_view_count": null,
       "_view_module": "@jupyter-widgets/base",
       "_view_module_version": "1.2.0",
       "_view_name": "LayoutView",
       "align_content": null,
       "align_items": null,
       "align_self": null,
       "border": null,
       "bottom": null,
       "display": null,
       "flex": null,
       "flex_flow": null,
       "grid_area": null,
       "grid_auto_columns": null,
       "grid_auto_flow": null,
       "grid_auto_rows": null,
       "grid_column": null,
       "grid_gap": null,
       "grid_row": null,
       "grid_template_areas": null,
       "grid_template_columns": null,
       "grid_template_rows": null,
       "height": null,
       "justify_content": null,
       "justify_items": null,
       "left": null,
       "margin": null,
       "max_height": null,
       "max_width": null,
       "min_height": null,
       "min_width": null,
       "object_fit": null,
       "object_position": null,
       "order": null,
       "overflow": null,
       "overflow_x": null,
       "overflow_y": null,
       "padding": null,
       "right": null,
       "top": null,
       "visibility": null,
       "width": null
      }
     },
     "e1aacc533e2f4ceebcbec0a67c113bdf": {
      "model_module": "@jupyter-widgets/controls",
      "model_module_version": "1.5.0",
      "model_name": "HTMLModel",
      "state": {
       "_dom_classes": [],
       "_model_module": "@jupyter-widgets/controls",
       "_model_module_version": "1.5.0",
       "_model_name": "HTMLModel",
       "_view_count": null,
       "_view_module": "@jupyter-widgets/controls",
       "_view_module_version": "1.5.0",
       "_view_name": "HTMLView",
       "description": "",
       "description_tooltip": null,
       "layout": "IPY_MODEL_1e32ec6845f044b4b5405d6460cdd576",
       "placeholder": "​",
       "style": "IPY_MODEL_4ad0b01156b3486ea60d93fdc367b327",
       "value": " 582/582 [02:08&lt;00:00,  9.49it/s]"
      }
     },
     "e8b60cf570e24cb59185bfc35258b3bd": {
      "model_module": "@jupyter-widgets/base",
      "model_module_version": "1.2.0",
      "model_name": "LayoutModel",
      "state": {
       "_model_module": "@jupyter-widgets/base",
       "_model_module_version": "1.2.0",
       "_model_name": "LayoutModel",
       "_view_count": null,
       "_view_module": "@jupyter-widgets/base",
       "_view_module_version": "1.2.0",
       "_view_name": "LayoutView",
       "align_content": null,
       "align_items": null,
       "align_self": null,
       "border": null,
       "bottom": null,
       "display": null,
       "flex": null,
       "flex_flow": null,
       "grid_area": null,
       "grid_auto_columns": null,
       "grid_auto_flow": null,
       "grid_auto_rows": null,
       "grid_column": null,
       "grid_gap": null,
       "grid_row": null,
       "grid_template_areas": null,
       "grid_template_columns": null,
       "grid_template_rows": null,
       "height": null,
       "justify_content": null,
       "justify_items": null,
       "left": null,
       "margin": null,
       "max_height": null,
       "max_width": null,
       "min_height": null,
       "min_width": null,
       "object_fit": null,
       "object_position": null,
       "order": null,
       "overflow": null,
       "overflow_x": null,
       "overflow_y": null,
       "padding": null,
       "right": null,
       "top": null,
       "visibility": null,
       "width": null
      }
     },
     "f403093def71462294ee7d7b82b1126c": {
      "model_module": "@jupyter-widgets/base",
      "model_module_version": "1.2.0",
      "model_name": "LayoutModel",
      "state": {
       "_model_module": "@jupyter-widgets/base",
       "_model_module_version": "1.2.0",
       "_model_name": "LayoutModel",
       "_view_count": null,
       "_view_module": "@jupyter-widgets/base",
       "_view_module_version": "1.2.0",
       "_view_name": "LayoutView",
       "align_content": null,
       "align_items": null,
       "align_self": null,
       "border": null,
       "bottom": null,
       "display": null,
       "flex": null,
       "flex_flow": null,
       "grid_area": null,
       "grid_auto_columns": null,
       "grid_auto_flow": null,
       "grid_auto_rows": null,
       "grid_column": null,
       "grid_gap": null,
       "grid_row": null,
       "grid_template_areas": null,
       "grid_template_columns": null,
       "grid_template_rows": null,
       "height": null,
       "justify_content": null,
       "justify_items": null,
       "left": null,
       "margin": null,
       "max_height": null,
       "max_width": null,
       "min_height": null,
       "min_width": null,
       "object_fit": null,
       "object_position": null,
       "order": null,
       "overflow": null,
       "overflow_x": null,
       "overflow_y": null,
       "padding": null,
       "right": null,
       "top": null,
       "visibility": null,
       "width": null
      }
     },
     "f5a18c4301474a0dbcf37153f678d293": {
      "model_module": "@jupyter-widgets/controls",
      "model_module_version": "1.5.0",
      "model_name": "ProgressStyleModel",
      "state": {
       "_model_module": "@jupyter-widgets/controls",
       "_model_module_version": "1.5.0",
       "_model_name": "ProgressStyleModel",
       "_view_count": null,
       "_view_module": "@jupyter-widgets/base",
       "_view_module_version": "1.2.0",
       "_view_name": "StyleView",
       "bar_color": null,
       "description_width": ""
      }
     },
     "f621948514c3462b8cd4513e8ed350f6": {
      "model_module": "@jupyter-widgets/base",
      "model_module_version": "1.2.0",
      "model_name": "LayoutModel",
      "state": {
       "_model_module": "@jupyter-widgets/base",
       "_model_module_version": "1.2.0",
       "_model_name": "LayoutModel",
       "_view_count": null,
       "_view_module": "@jupyter-widgets/base",
       "_view_module_version": "1.2.0",
       "_view_name": "LayoutView",
       "align_content": null,
       "align_items": null,
       "align_self": null,
       "border": null,
       "bottom": null,
       "display": null,
       "flex": null,
       "flex_flow": null,
       "grid_area": null,
       "grid_auto_columns": null,
       "grid_auto_flow": null,
       "grid_auto_rows": null,
       "grid_column": null,
       "grid_gap": null,
       "grid_row": null,
       "grid_template_areas": null,
       "grid_template_columns": null,
       "grid_template_rows": null,
       "height": null,
       "justify_content": null,
       "justify_items": null,
       "left": null,
       "margin": null,
       "max_height": null,
       "max_width": null,
       "min_height": null,
       "min_width": null,
       "object_fit": null,
       "object_position": null,
       "order": null,
       "overflow": null,
       "overflow_x": null,
       "overflow_y": null,
       "padding": null,
       "right": null,
       "top": null,
       "visibility": null,
       "width": null
      }
     }
    },
    "version_major": 2,
    "version_minor": 0
   }
  }
 },
 "nbformat": 4,
 "nbformat_minor": 5
}
