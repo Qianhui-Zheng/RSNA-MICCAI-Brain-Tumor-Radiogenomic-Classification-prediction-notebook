{
 "cells": [
  {
   "cell_type": "code",
   "execution_count": 1,
   "id": "037214dd",
   "metadata": {
    "execution": {
     "iopub.execute_input": "2021-10-13T01:59:45.609826Z",
     "iopub.status.busy": "2021-10-13T01:59:45.609145Z",
     "iopub.status.idle": "2021-10-13T01:59:48.267523Z",
     "shell.execute_reply": "2021-10-13T01:59:48.266333Z",
     "shell.execute_reply.started": "2021-10-12T06:08:10.361018Z"
    },
    "papermill": {
     "duration": 2.691353,
     "end_time": "2021-10-13T01:59:48.267725",
     "exception": false,
     "start_time": "2021-10-13T01:59:45.576372",
     "status": "completed"
    },
    "tags": []
   },
   "outputs": [],
   "source": [
    "import os\n",
    "import sys \n",
    "import json\n",
    "import glob\n",
    "import random\n",
    "import collections\n",
    "import time\n",
    "import re\n",
    "\n",
    "import numpy as np\n",
    "import pandas as pd\n",
    "import pydicom\n",
    "from pydicom.pixel_data_handlers.util import apply_voi_lut\n",
    "import cv2\n",
    "import matplotlib.pyplot as plt\n",
    "import seaborn as sns\n",
    "\n",
    "import torch\n",
    "from torch import nn\n",
    "from torch.utils import data as torch_data\n",
    "from sklearn import model_selection as sk_model_selection\n",
    "from torch.nn import functional as torch_functional\n",
    "import torch.nn.functional as F\n",
    "\n",
    "from sklearn.model_selection import StratifiedKFold\n",
    "from sklearn.metrics import roc_auc_score"
   ]
  },
  {
   "cell_type": "code",
   "execution_count": 2,
   "id": "87df6daf",
   "metadata": {
    "execution": {
     "iopub.execute_input": "2021-10-13T01:59:48.310114Z",
     "iopub.status.busy": "2021-10-13T01:59:48.309448Z",
     "iopub.status.idle": "2021-10-13T01:59:48.338736Z",
     "shell.execute_reply": "2021-10-13T01:59:48.339275Z",
     "shell.execute_reply.started": "2021-10-12T06:08:23.449077Z"
    },
    "lines_to_end_of_cell_marker": 2,
    "lines_to_next_cell": 2,
    "papermill": {
     "duration": 0.053225,
     "end_time": "2021-10-13T01:59:48.339448",
     "exception": false,
     "start_time": "2021-10-13T01:59:48.286223",
     "status": "completed"
    },
    "tags": []
   },
   "outputs": [],
   "source": [
    "if os.path.exists(\"../input/rsna-miccai-brain-tumor-radiogenomic-classification\"):\n",
    "    data_directory = '../input/rsna-miccai-voxel-128-dataset/voxel'\n",
    "    pytorch3dpath = \"../input/efficientnetpyttorch3d/EfficientNet-PyTorch-3D\"\n",
    "else:\n",
    "    data_directory = '/media/roland/data/kaggle/rsna-miccai-brain-tumor-radiogenomic-classification'\n",
    "    pytorch3dpath = \"EfficientNet-PyTorch-3D\"\n",
    "    \n",
    "mri_types = ['FLAIR','T1w','T1wCE','T2w']\n",
    "SIZE = 256\n",
    "NUM_IMAGES = 64\n",
    "\n",
    "sys.path.append(pytorch3dpath)\n",
    "from efficientnet_pytorch_3d import EfficientNet3D"
   ]
  },
  {
   "cell_type": "markdown",
   "id": "5a318f08",
   "metadata": {
    "papermill": {
     "duration": 0.017617,
     "end_time": "2021-10-13T01:59:48.374903",
     "exception": false,
     "start_time": "2021-10-13T01:59:48.357286",
     "status": "completed"
    },
    "tags": []
   },
   "source": [
    "## Functions to load images"
   ]
  },
  {
   "cell_type": "code",
   "execution_count": 3,
   "id": "3ba5e0eb",
   "metadata": {
    "execution": {
     "iopub.execute_input": "2021-10-13T01:59:48.413664Z",
     "iopub.status.busy": "2021-10-13T01:59:48.413006Z",
     "iopub.status.idle": "2021-10-13T01:59:48.420083Z",
     "shell.execute_reply": "2021-10-13T01:59:48.420672Z",
     "shell.execute_reply.started": "2021-10-12T06:08:24.737736Z"
    },
    "papermill": {
     "duration": 0.028157,
     "end_time": "2021-10-13T01:59:48.420846",
     "exception": false,
     "start_time": "2021-10-13T01:59:48.392689",
     "status": "completed"
    },
    "tags": []
   },
   "outputs": [],
   "source": [
    "def load_images_processed(scan_id, num_imgs=NUM_IMAGES, img_size=SIZE, mri_type=\"FLAIR\", split=\"train\", rotate=0):\n",
    "  \n",
    "  if os.path.exists(f\"{data_directory}/{split}/{scan_id}/{mri_type}.npy\"):\n",
    "    file = f\"{data_directory}/{split}/{scan_id}/{mri_type}.npy\"\n",
    "    array = np.load(file) \n",
    "    data = array\n",
    "  else:\n",
    "        data =  np.zeros( (128,128,128) , dtype=int)\n",
    "  \n",
    "  return np.expand_dims(data,0)"
   ]
  },
  {
   "cell_type": "code",
   "execution_count": 4,
   "id": "9b73416e",
   "metadata": {
    "execution": {
     "iopub.execute_input": "2021-10-13T01:59:48.459947Z",
     "iopub.status.busy": "2021-10-13T01:59:48.459273Z",
     "iopub.status.idle": "2021-10-13T01:59:48.469439Z",
     "shell.execute_reply": "2021-10-13T01:59:48.468928Z",
     "shell.execute_reply.started": "2021-10-12T06:08:25.56942Z"
    },
    "papermill": {
     "duration": 0.030713,
     "end_time": "2021-10-13T01:59:48.469592",
     "exception": false,
     "start_time": "2021-10-13T01:59:48.438879",
     "status": "completed"
    },
    "tags": []
   },
   "outputs": [
    {
     "data": {
      "text/plain": [
       "'def Load_dicom_image(path, img_size=SIZE, voi_lut=True, rotate=0):\\n    dicom = pydicom.read_file(path)\\n    data = dicom.pixel_array\\n    if voi_lut:\\n        data = apply_voi_lut(dicom.pixel_array, dicom)\\n    else:\\n        data = dicom.pixel_array\\n        \\n    if rotate > 0:\\n        rot_choices = [0, cv2.ROTATE_90_CLOCKWISE, cv2.ROTATE_90_COUNTERCLOCKWISE, cv2.ROTATE_180]\\n        data = cv2.rotate(data, rot_choices[rotate])\\n        \\n    data = cv2.resize(data, (img_size, img_size))\\n    return data\\n\\n\\ndef Load_dicom_images_3d(scan_id, num_imgs=NUM_IMAGES, img_size=SIZE, mri_type=\"FLAIR\", split=\"train\", rotate=0):\\n\\n    files = sorted(glob.glob(f\"{data_directory}/{split}/{scan_id}/{mri_type}/*.dcm\"), \\n               key=lambda var:[int(x) if x.isdigit() else x for x in re.findall(r\\'[^0-9]|[0-9]+\\', var)])\\n\\n    middle = len(files)//2\\n    num_imgs2 = num_imgs//2\\n    p1 = max(0, middle - num_imgs2)\\n    p2 = min(len(files), middle + num_imgs2)\\n    img3d = np.stack([Load_dicom_image(f, rotate=rotate) for f in files[p1:p2]]).T \\n    if img3d.shape[-1] < num_imgs:\\n        n_zero = np.zeros((img_size, img_size, num_imgs - img3d.shape[-1]))\\n        img3d = np.concatenate((img3d,  n_zero), axis = -1)\\n        \\n    if np.min(img3d) < np.max(img3d):\\n        img3d = img3d - np.min(img3d)\\n        img3d = img3d / np.max(img3d)\\n            \\n    return np.expand_dims(img3d,0)\\n\\na = Load_dicom_images_3d(\"00000\")\\nprint(a.shape)\\nprint(np.min(a), np.max(a), np.mean(a), np.median(a))'"
      ]
     },
     "execution_count": 4,
     "metadata": {},
     "output_type": "execute_result"
    }
   ],
   "source": [
    "'''def Load_dicom_image(path, img_size=SIZE, voi_lut=True, rotate=0):\n",
    "    dicom = pydicom.read_file(path)\n",
    "    data = dicom.pixel_array\n",
    "    if voi_lut:\n",
    "        data = apply_voi_lut(dicom.pixel_array, dicom)\n",
    "    else:\n",
    "        data = dicom.pixel_array\n",
    "        \n",
    "    if rotate > 0:\n",
    "        rot_choices = [0, cv2.ROTATE_90_CLOCKWISE, cv2.ROTATE_90_COUNTERCLOCKWISE, cv2.ROTATE_180]\n",
    "        data = cv2.rotate(data, rot_choices[rotate])\n",
    "        \n",
    "    data = cv2.resize(data, (img_size, img_size))\n",
    "    return data\n",
    "\n",
    "\n",
    "def Load_dicom_images_3d(scan_id, num_imgs=NUM_IMAGES, img_size=SIZE, mri_type=\"FLAIR\", split=\"train\", rotate=0):\n",
    "\n",
    "    files = sorted(glob.glob(f\"{data_directory}/{split}/{scan_id}/{mri_type}/*.dcm\"), \n",
    "               key=lambda var:[int(x) if x.isdigit() else x for x in re.findall(r'[^0-9]|[0-9]+', var)])\n",
    "\n",
    "    middle = len(files)//2\n",
    "    num_imgs2 = num_imgs//2\n",
    "    p1 = max(0, middle - num_imgs2)\n",
    "    p2 = min(len(files), middle + num_imgs2)\n",
    "    img3d = np.stack([Load_dicom_image(f, rotate=rotate) for f in files[p1:p2]]).T \n",
    "    if img3d.shape[-1] < num_imgs:\n",
    "        n_zero = np.zeros((img_size, img_size, num_imgs - img3d.shape[-1]))\n",
    "        img3d = np.concatenate((img3d,  n_zero), axis = -1)\n",
    "        \n",
    "    if np.min(img3d) < np.max(img3d):\n",
    "        img3d = img3d - np.min(img3d)\n",
    "        img3d = img3d / np.max(img3d)\n",
    "            \n",
    "    return np.expand_dims(img3d,0)\n",
    "\n",
    "a = Load_dicom_images_3d(\"00000\")\n",
    "print(a.shape)\n",
    "print(np.min(a), np.max(a), np.mean(a), np.median(a))'''"
   ]
  },
  {
   "cell_type": "code",
   "execution_count": 5,
   "id": "f14e6f76",
   "metadata": {
    "execution": {
     "iopub.execute_input": "2021-10-13T01:59:48.514193Z",
     "iopub.status.busy": "2021-10-13T01:59:48.513521Z",
     "iopub.status.idle": "2021-10-13T01:59:48.519571Z",
     "shell.execute_reply": "2021-10-13T01:59:48.518976Z",
     "shell.execute_reply.started": "2021-10-12T06:08:26.822166Z"
    },
    "papermill": {
     "duration": 0.031289,
     "end_time": "2021-10-13T01:59:48.519721",
     "exception": false,
     "start_time": "2021-10-13T01:59:48.488432",
     "status": "completed"
    },
    "tags": []
   },
   "outputs": [],
   "source": [
    "def set_seed(seed):\n",
    "    random.seed(seed)\n",
    "    os.environ[\"PYTHONHASHSEED\"] = str(seed)\n",
    "    np.random.seed(seed)\n",
    "    torch.manual_seed(seed)\n",
    "    if torch.cuda.is_available():\n",
    "        torch.cuda.manual_seed_all(seed)\n",
    "        torch.backends.cudnn.deterministic = True\n",
    "\n",
    "set_seed(99)"
   ]
  },
  {
   "cell_type": "markdown",
   "id": "64041bf6",
   "metadata": {
    "papermill": {
     "duration": 0.017745,
     "end_time": "2021-10-13T01:59:48.555865",
     "exception": false,
     "start_time": "2021-10-13T01:59:48.538120",
     "status": "completed"
    },
    "tags": []
   },
   "source": [
    "## train / test splits"
   ]
  },
  {
   "cell_type": "code",
   "execution_count": 6,
   "id": "04b29c1b",
   "metadata": {
    "execution": {
     "iopub.execute_input": "2021-10-13T01:59:48.597872Z",
     "iopub.status.busy": "2021-10-13T01:59:48.597208Z",
     "iopub.status.idle": "2021-10-13T01:59:48.641238Z",
     "shell.execute_reply": "2021-10-13T01:59:48.640603Z",
     "shell.execute_reply.started": "2021-10-12T06:08:54.474166Z"
    },
    "papermill": {
     "duration": 0.067478,
     "end_time": "2021-10-13T01:59:48.641381",
     "exception": false,
     "start_time": "2021-10-13T01:59:48.573903",
     "status": "completed"
    },
    "tags": []
   },
   "outputs": [
    {
     "data": {
      "text/html": [
       "<div>\n",
       "<style scoped>\n",
       "    .dataframe tbody tr th:only-of-type {\n",
       "        vertical-align: middle;\n",
       "    }\n",
       "\n",
       "    .dataframe tbody tr th {\n",
       "        vertical-align: top;\n",
       "    }\n",
       "\n",
       "    .dataframe thead th {\n",
       "        text-align: right;\n",
       "    }\n",
       "</style>\n",
       "<table border=\"1\" class=\"dataframe\">\n",
       "  <thead>\n",
       "    <tr style=\"text-align: right;\">\n",
       "      <th></th>\n",
       "      <th>BraTS21ID</th>\n",
       "      <th>MGMT_value</th>\n",
       "    </tr>\n",
       "  </thead>\n",
       "  <tbody>\n",
       "    <tr>\n",
       "      <th>0</th>\n",
       "      <td>0</td>\n",
       "      <td>1</td>\n",
       "    </tr>\n",
       "    <tr>\n",
       "      <th>1</th>\n",
       "      <td>2</td>\n",
       "      <td>1</td>\n",
       "    </tr>\n",
       "    <tr>\n",
       "      <th>2</th>\n",
       "      <td>3</td>\n",
       "      <td>0</td>\n",
       "    </tr>\n",
       "    <tr>\n",
       "      <th>3</th>\n",
       "      <td>5</td>\n",
       "      <td>1</td>\n",
       "    </tr>\n",
       "    <tr>\n",
       "      <th>4</th>\n",
       "      <td>6</td>\n",
       "      <td>1</td>\n",
       "    </tr>\n",
       "    <tr>\n",
       "      <th>...</th>\n",
       "      <td>...</td>\n",
       "      <td>...</td>\n",
       "    </tr>\n",
       "    <tr>\n",
       "      <th>580</th>\n",
       "      <td>1005</td>\n",
       "      <td>1</td>\n",
       "    </tr>\n",
       "    <tr>\n",
       "      <th>581</th>\n",
       "      <td>1007</td>\n",
       "      <td>1</td>\n",
       "    </tr>\n",
       "    <tr>\n",
       "      <th>582</th>\n",
       "      <td>1008</td>\n",
       "      <td>1</td>\n",
       "    </tr>\n",
       "    <tr>\n",
       "      <th>583</th>\n",
       "      <td>1009</td>\n",
       "      <td>0</td>\n",
       "    </tr>\n",
       "    <tr>\n",
       "      <th>584</th>\n",
       "      <td>1010</td>\n",
       "      <td>0</td>\n",
       "    </tr>\n",
       "  </tbody>\n",
       "</table>\n",
       "<p>585 rows × 2 columns</p>\n",
       "</div>"
      ],
      "text/plain": [
       "     BraTS21ID  MGMT_value\n",
       "0            0           1\n",
       "1            2           1\n",
       "2            3           0\n",
       "3            5           1\n",
       "4            6           1\n",
       "..         ...         ...\n",
       "580       1005           1\n",
       "581       1007           1\n",
       "582       1008           1\n",
       "583       1009           0\n",
       "584       1010           0\n",
       "\n",
       "[585 rows x 2 columns]"
      ]
     },
     "metadata": {},
     "output_type": "display_data"
    }
   ],
   "source": [
    "train_df = pd.read_csv('../input/rsna-miccai-brain-tumor-radiogenomic-classification/train_labels.csv')\n",
    "display(train_df)\n",
    "\n",
    "df_train, df_valid = sk_model_selection.train_test_split(\n",
    "    train_df, \n",
    "    test_size=0.2, \n",
    "    random_state=24, \n",
    "    stratify=train_df[\"MGMT_value\"],\n",
    ")\n"
   ]
  },
  {
   "cell_type": "code",
   "execution_count": 7,
   "id": "ec1d68ef",
   "metadata": {
    "execution": {
     "iopub.execute_input": "2021-10-13T01:59:48.688982Z",
     "iopub.status.busy": "2021-10-13T01:59:48.688209Z",
     "iopub.status.idle": "2021-10-13T01:59:48.691746Z",
     "shell.execute_reply": "2021-10-13T01:59:48.691127Z",
     "shell.execute_reply.started": "2021-10-12T06:08:54.518104Z"
    },
    "papermill": {
     "duration": 0.031246,
     "end_time": "2021-10-13T01:59:48.691881",
     "exception": false,
     "start_time": "2021-10-13T01:59:48.660635",
     "status": "completed"
    },
    "tags": []
   },
   "outputs": [
    {
     "data": {
      "text/html": [
       "<div>\n",
       "<style scoped>\n",
       "    .dataframe tbody tr th:only-of-type {\n",
       "        vertical-align: middle;\n",
       "    }\n",
       "\n",
       "    .dataframe tbody tr th {\n",
       "        vertical-align: top;\n",
       "    }\n",
       "\n",
       "    .dataframe thead th {\n",
       "        text-align: right;\n",
       "    }\n",
       "</style>\n",
       "<table border=\"1\" class=\"dataframe\">\n",
       "  <thead>\n",
       "    <tr style=\"text-align: right;\">\n",
       "      <th></th>\n",
       "      <th>BraTS21ID</th>\n",
       "      <th>MGMT_value</th>\n",
       "    </tr>\n",
       "  </thead>\n",
       "  <tbody>\n",
       "    <tr>\n",
       "      <th>68</th>\n",
       "      <td>106</td>\n",
       "      <td>1</td>\n",
       "    </tr>\n",
       "    <tr>\n",
       "      <th>547</th>\n",
       "      <td>801</td>\n",
       "      <td>1</td>\n",
       "    </tr>\n",
       "    <tr>\n",
       "      <th>101</th>\n",
       "      <td>151</td>\n",
       "      <td>0</td>\n",
       "    </tr>\n",
       "    <tr>\n",
       "      <th>498</th>\n",
       "      <td>729</td>\n",
       "      <td>0</td>\n",
       "    </tr>\n",
       "    <tr>\n",
       "      <th>537</th>\n",
       "      <td>789</td>\n",
       "      <td>1</td>\n",
       "    </tr>\n",
       "  </tbody>\n",
       "</table>\n",
       "</div>"
      ],
      "text/plain": [
       "     BraTS21ID  MGMT_value\n",
       "68         106           1\n",
       "547        801           1\n",
       "101        151           0\n",
       "498        729           0\n",
       "537        789           1"
      ]
     },
     "execution_count": 7,
     "metadata": {},
     "output_type": "execute_result"
    }
   ],
   "source": [
    "df_train.tail()"
   ]
  },
  {
   "cell_type": "markdown",
   "id": "8d5b54d1",
   "metadata": {
    "papermill": {
     "duration": 0.01915,
     "end_time": "2021-10-13T01:59:48.730468",
     "exception": false,
     "start_time": "2021-10-13T01:59:48.711318",
     "status": "completed"
    },
    "tags": []
   },
   "source": [
    "## Model and training classes"
   ]
  },
  {
   "cell_type": "code",
   "execution_count": 8,
   "id": "fd413859",
   "metadata": {
    "execution": {
     "iopub.execute_input": "2021-10-13T01:59:48.773363Z",
     "iopub.status.busy": "2021-10-13T01:59:48.772633Z",
     "iopub.status.idle": "2021-10-13T01:59:48.783408Z",
     "shell.execute_reply": "2021-10-13T01:59:48.783949Z",
     "shell.execute_reply.started": "2021-10-12T06:08:56.730767Z"
    },
    "papermill": {
     "duration": 0.034146,
     "end_time": "2021-10-13T01:59:48.784141",
     "exception": false,
     "start_time": "2021-10-13T01:59:48.749995",
     "status": "completed"
    },
    "tags": []
   },
   "outputs": [],
   "source": [
    "class Dataset(torch_data.Dataset):\n",
    "    def __init__(self, paths, targets=None, mri_type=None, label_smoothing=0.01, split=\"train\", augment=False):\n",
    "        self.paths = paths\n",
    "        self.targets = targets\n",
    "        self.mri_type = mri_type\n",
    "        self.label_smoothing = label_smoothing\n",
    "        self.split = split\n",
    "        self.augment = augment\n",
    "          \n",
    "    def __len__(self):\n",
    "        return len(self.paths)\n",
    "    \n",
    "    def __getitem__(self, index):\n",
    "        scan_id = self.paths[index]\n",
    "        if self.targets is None:\n",
    "            data = load_images_processed(str(scan_id).zfill(5), mri_type=self.mri_type[index], split=self.split)\n",
    "        else:\n",
    "            if self.augment:\n",
    "                rotation = np.random.randint(0,4)\n",
    "            else:\n",
    "                rotation = 0\n",
    "\n",
    "            data = load_images_processed(str(scan_id).zfill(5), mri_type=self.mri_type[index], split=\"train\", rotate=rotation)\n",
    "\n",
    "        if self.targets is None:\n",
    "            return {\"X\": torch.tensor(data).float(), \"id\": scan_id}\n",
    "        else:\n",
    "            y = torch.tensor(abs(self.targets[index]-self.label_smoothing), dtype=torch.float)\n",
    "            return {\"X\": torch.tensor(data).float(), \"y\": y}\n"
   ]
  },
  {
   "cell_type": "code",
   "execution_count": 9,
   "id": "d84a2651",
   "metadata": {
    "execution": {
     "iopub.execute_input": "2021-10-13T01:59:48.828186Z",
     "iopub.status.busy": "2021-10-13T01:59:48.827451Z",
     "iopub.status.idle": "2021-10-13T01:59:48.833245Z",
     "shell.execute_reply": "2021-10-13T01:59:48.833745Z",
     "shell.execute_reply.started": "2021-10-12T06:08:57.61363Z"
    },
    "papermill": {
     "duration": 0.029224,
     "end_time": "2021-10-13T01:59:48.833926",
     "exception": false,
     "start_time": "2021-10-13T01:59:48.804702",
     "status": "completed"
    },
    "tags": []
   },
   "outputs": [],
   "source": [
    "class Model(nn.Module):\n",
    "    def __init__(self):\n",
    "        super().__init__()\n",
    "        self.net = EfficientNet3D.from_name(\"efficientnet-b0\", override_params={'num_classes': 2}, in_channels=1)\n",
    "        n_features = self.net._fc.in_features\n",
    "        self.net._fc = nn.Linear(in_features=n_features, out_features=1, bias=True)\n",
    "    \n",
    "    def forward(self, x):\n",
    "        out = self.net(x)\n",
    "        return out\n",
    "    "
   ]
  },
  {
   "cell_type": "code",
   "execution_count": 10,
   "id": "cae08ed0",
   "metadata": {
    "execution": {
     "iopub.execute_input": "2021-10-13T01:59:48.876008Z",
     "iopub.status.busy": "2021-10-13T01:59:48.875311Z",
     "iopub.status.idle": "2021-10-13T01:59:48.896986Z",
     "shell.execute_reply": "2021-10-13T01:59:48.897463Z",
     "shell.execute_reply.started": "2021-10-12T06:08:58.754473Z"
    },
    "papermill": {
     "duration": 0.044382,
     "end_time": "2021-10-13T01:59:48.897671",
     "exception": false,
     "start_time": "2021-10-13T01:59:48.853289",
     "status": "completed"
    },
    "tags": []
   },
   "outputs": [],
   "source": [
    "class Trainer:\n",
    "    def __init__(\n",
    "        self, \n",
    "        model, \n",
    "        device, \n",
    "        optimizer, \n",
    "        criterion\n",
    "    ):\n",
    "        self.model = model\n",
    "        self.device = device\n",
    "        self.optimizer = optimizer\n",
    "        self.criterion = criterion\n",
    "\n",
    "        self.best_valid_score = np.inf\n",
    "        self.n_patience = 0\n",
    "        self.lastmodel = None\n",
    "        \n",
    "    def fit(self, epochs, train_loader, valid_loader, save_path, patience):        \n",
    "        for n_epoch in range(1, epochs + 1):\n",
    "            self.info_message(\"EPOCH: {}\", n_epoch)\n",
    "            \n",
    "            train_loss, train_time = self.train_epoch(train_loader)\n",
    "            valid_loss, valid_auc, valid_time = self.valid_epoch(valid_loader)\n",
    "            \n",
    "            self.info_message(\n",
    "                \"[Epoch Train: {}] loss: {:.4f}, time: {:.2f} s            \",\n",
    "                n_epoch, train_loss, train_time\n",
    "            )\n",
    "            \n",
    "            self.info_message(\n",
    "                \"[Epoch Valid: {}] loss: {:.4f}, auc: {:.4f}, time: {:.2f} s\",\n",
    "                n_epoch, valid_loss, valid_auc, valid_time\n",
    "            )\n",
    "\n",
    "            # if True:\n",
    "            # if self.best_valid_score < valid_auc: \n",
    "            if self.best_valid_score > valid_loss: \n",
    "                self.save_model(n_epoch, save_path, valid_loss, valid_auc)\n",
    "                self.info_message(\n",
    "                     \"auc improved from {:.4f} to {:.4f}. Saved model to '{}'\", \n",
    "                    self.best_valid_score, valid_loss, self.lastmodel\n",
    "                )\n",
    "                self.best_valid_score = valid_loss\n",
    "                self.n_patience = 0\n",
    "            else:\n",
    "                self.n_patience += 1\n",
    "            \n",
    "            if self.n_patience >= patience:\n",
    "                self.info_message(\"\\nValid auc didn't improve last {} epochs.\", patience)\n",
    "                break\n",
    "            \n",
    "    def train_epoch(self, train_loader):\n",
    "        self.model.train()\n",
    "        t = time.time()\n",
    "        sum_loss = 0\n",
    "\n",
    "        for step, batch in enumerate(train_loader, 1):\n",
    "            X = batch[\"X\"].to(self.device)\n",
    "            targets = batch[\"y\"].to(self.device)\n",
    "            self.optimizer.zero_grad()\n",
    "            outputs = self.model(X).squeeze(1)\n",
    "            \n",
    "            loss = self.criterion(outputs, targets)\n",
    "            loss.backward()\n",
    "\n",
    "            sum_loss += loss.detach().item()\n",
    "\n",
    "            self.optimizer.step()\n",
    "            \n",
    "            message = 'Train Step {}/{}, train_loss: {:.4f}'\n",
    "            self.info_message(message, step, len(train_loader), sum_loss/step, end=\"\\r\")\n",
    "        \n",
    "        return sum_loss/len(train_loader), int(time.time() - t)\n",
    "    \n",
    "    def valid_epoch(self, valid_loader):\n",
    "        self.model.eval()\n",
    "        t = time.time()\n",
    "        sum_loss = 0\n",
    "        y_all = []\n",
    "        outputs_all = []\n",
    "\n",
    "        for step, batch in enumerate(valid_loader, 1):\n",
    "            with torch.no_grad():\n",
    "                X = batch[\"X\"].to(self.device)\n",
    "                targets = batch[\"y\"].to(self.device)\n",
    "\n",
    "                outputs = self.model(X).squeeze(1)\n",
    "                loss = self.criterion(outputs, targets)\n",
    "\n",
    "                sum_loss += loss.detach().item()\n",
    "                y_all.extend(batch[\"y\"].tolist())\n",
    "                outputs_all.extend(outputs.tolist())\n",
    "\n",
    "            message = 'Valid Step {}/{}, valid_loss: {:.4f}'\n",
    "            self.info_message(message, step, len(valid_loader), sum_loss/step, end=\"\\r\")\n",
    "            \n",
    "        y_all = [1 if x > 0.5 else 0 for x in y_all]\n",
    "        auc = roc_auc_score(y_all, outputs_all)\n",
    "        \n",
    "        return sum_loss/len(valid_loader), auc, int(time.time() - t)\n",
    "    \n",
    "    def save_model(self, n_epoch, save_path, loss, auc):\n",
    "        self.lastmodel = f\"{save_path}-e{n_epoch}-loss{loss:.3f}-auc{auc:.3f}.pth\"\n",
    "        torch.save(\n",
    "            {\n",
    "                \"model_state_dict\": self.model.state_dict(),\n",
    "                \"optimizer_state_dict\": self.optimizer.state_dict(),\n",
    "                \"best_valid_score\": self.best_valid_score,\n",
    "                \"n_epoch\": n_epoch,\n",
    "            },\n",
    "            self.lastmodel,\n",
    "        )\n",
    "    \n",
    "    @staticmethod\n",
    "    def info_message(message, *args, end=\"\\n\"):\n",
    "        print(message.format(*args), end=end)"
   ]
  },
  {
   "cell_type": "markdown",
   "id": "bf7dfd95",
   "metadata": {
    "papermill": {
     "duration": 0.01889,
     "end_time": "2021-10-13T01:59:48.935920",
     "exception": false,
     "start_time": "2021-10-13T01:59:48.917030",
     "status": "completed"
    },
    "tags": []
   },
   "source": [
    "## train models"
   ]
  },
  {
   "cell_type": "code",
   "execution_count": 11,
   "id": "b0cf0f57",
   "metadata": {
    "execution": {
     "iopub.execute_input": "2021-10-13T01:59:48.977799Z",
     "iopub.status.busy": "2021-10-13T01:59:48.977068Z",
     "iopub.status.idle": "2021-10-13T07:57:25.677376Z",
     "shell.execute_reply": "2021-10-13T07:57:25.677888Z",
     "shell.execute_reply.started": "2021-10-12T06:09:00.32017Z"
    },
    "lines_to_next_cell": 2,
    "papermill": {
     "duration": 21456.723058,
     "end_time": "2021-10-13T07:57:25.678207",
     "exception": false,
     "start_time": "2021-10-13T01:59:48.955149",
     "status": "completed"
    },
    "tags": []
   },
   "outputs": [
    {
     "name": "stdout",
     "output_type": "stream",
     "text": [
      "(468, 3) (117, 3)\n"
     ]
    },
    {
     "name": "stderr",
     "output_type": "stream",
     "text": [
      "/opt/conda/lib/python3.7/site-packages/pandas/core/indexing.py:1597: SettingWithCopyWarning: \n",
      "A value is trying to be set on a copy of a slice from a DataFrame.\n",
      "Try using .loc[row_indexer,col_indexer] = value instead\n",
      "\n",
      "See the caveats in the documentation: https://pandas.pydata.org/pandas-docs/stable/user_guide/indexing.html#returning-a-view-versus-a-copy\n",
      "  self.obj[key] = value\n",
      "/opt/conda/lib/python3.7/site-packages/pandas/core/indexing.py:1720: SettingWithCopyWarning: \n",
      "A value is trying to be set on a copy of a slice from a DataFrame.\n",
      "Try using .loc[row_indexer,col_indexer] = value instead\n",
      "\n",
      "See the caveats in the documentation: https://pandas.pydata.org/pandas-docs/stable/user_guide/indexing.html#returning-a-view-versus-a-copy\n",
      "  self._setitem_single_column(loc, value, pi)\n"
     ]
    },
    {
     "data": {
      "text/html": [
       "<div>\n",
       "<style scoped>\n",
       "    .dataframe tbody tr th:only-of-type {\n",
       "        vertical-align: middle;\n",
       "    }\n",
       "\n",
       "    .dataframe tbody tr th {\n",
       "        vertical-align: top;\n",
       "    }\n",
       "\n",
       "    .dataframe thead th {\n",
       "        text-align: right;\n",
       "    }\n",
       "</style>\n",
       "<table border=\"1\" class=\"dataframe\">\n",
       "  <thead>\n",
       "    <tr style=\"text-align: right;\">\n",
       "      <th></th>\n",
       "      <th>BraTS21ID</th>\n",
       "      <th>MGMT_value</th>\n",
       "      <th>MRI_Type</th>\n",
       "    </tr>\n",
       "  </thead>\n",
       "  <tbody>\n",
       "    <tr>\n",
       "      <th>289</th>\n",
       "      <td>418</td>\n",
       "      <td>0</td>\n",
       "      <td>FLAIR</td>\n",
       "    </tr>\n",
       "    <tr>\n",
       "      <th>119</th>\n",
       "      <td>178</td>\n",
       "      <td>1</td>\n",
       "      <td>FLAIR</td>\n",
       "    </tr>\n",
       "    <tr>\n",
       "      <th>228</th>\n",
       "      <td>331</td>\n",
       "      <td>1</td>\n",
       "      <td>FLAIR</td>\n",
       "    </tr>\n",
       "    <tr>\n",
       "      <th>567</th>\n",
       "      <td>834</td>\n",
       "      <td>0</td>\n",
       "      <td>FLAIR</td>\n",
       "    </tr>\n",
       "    <tr>\n",
       "      <th>86</th>\n",
       "      <td>133</td>\n",
       "      <td>0</td>\n",
       "      <td>FLAIR</td>\n",
       "    </tr>\n",
       "  </tbody>\n",
       "</table>\n",
       "</div>"
      ],
      "text/plain": [
       "     BraTS21ID  MGMT_value MRI_Type\n",
       "289        418           0    FLAIR\n",
       "119        178           1    FLAIR\n",
       "228        331           1    FLAIR\n",
       "567        834           0    FLAIR\n",
       "86         133           0    FLAIR"
      ]
     },
     "metadata": {},
     "output_type": "display_data"
    },
    {
     "name": "stdout",
     "output_type": "stream",
     "text": [
      "EPOCH: 1\n",
      "[Epoch Train: 1] loss: 0.7650, time: 517.00 s            \n",
      "[Epoch Valid: 1] loss: 0.6935, auc: 0.4513, time: 33.00 s\n",
      "auc improved from inf to 0.6935. Saved model to 'FLAIR-e1-loss0.693-auc0.451.pth'\n",
      "EPOCH: 2\n",
      "[Epoch Train: 2] loss: 0.6979, time: 501.00 s            \n",
      "[Epoch Valid: 2] loss: 0.6934, auc: 0.5221, time: 32.00 s\n",
      "auc improved from 0.6935 to 0.6934. Saved model to 'FLAIR-e2-loss0.693-auc0.522.pth'\n",
      "EPOCH: 3\n",
      "[Epoch Train: 3] loss: 0.7121, time: 501.00 s            \n",
      "[Epoch Valid: 3] loss: 0.6938, auc: 0.4322, time: 32.00 s\n",
      "EPOCH: 4\n",
      "[Epoch Train: 4] loss: 0.7025, time: 505.00 s            \n",
      "[Epoch Valid: 4] loss: 0.6914, auc: 0.6092, time: 32.00 s\n",
      "auc improved from 0.6934 to 0.6914. Saved model to 'FLAIR-e4-loss0.691-auc0.609.pth'\n",
      "EPOCH: 5\n",
      "[Epoch Train: 5] loss: 0.7133, time: 493.00 s            \n",
      "[Epoch Valid: 5] loss: 0.6857, auc: 0.4851, time: 32.00 s\n",
      "auc improved from 0.6914 to 0.6857. Saved model to 'FLAIR-e5-loss0.686-auc0.485.pth'\n",
      "EPOCH: 6\n",
      "[Epoch Train: 6] loss: 0.6960, time: 491.00 s            \n",
      "[Epoch Valid: 6] loss: 0.7001, auc: 0.4277, time: 32.00 s\n",
      "EPOCH: 7\n",
      "[Epoch Train: 7] loss: 0.6999, time: 492.00 s            \n",
      "[Epoch Valid: 7] loss: 0.6892, auc: 0.5782, time: 32.00 s\n",
      "EPOCH: 8\n",
      "[Epoch Train: 8] loss: 0.6982, time: 506.00 s            \n",
      "[Epoch Valid: 8] loss: 0.6941, auc: 0.4374, time: 32.00 s\n",
      "EPOCH: 9\n",
      "[Epoch Train: 9] loss: 0.6979, time: 494.00 s            \n",
      "[Epoch Valid: 9] loss: 0.6903, auc: 0.5375, time: 31.00 s\n",
      "EPOCH: 10\n",
      "[Epoch Train: 10] loss: 0.6994, time: 492.00 s            \n",
      "[Epoch Valid: 10] loss: 0.7469, auc: 0.5061, time: 32.00 s\n",
      "(468, 3) (117, 3)\n"
     ]
    },
    {
     "name": "stderr",
     "output_type": "stream",
     "text": [
      "/opt/conda/lib/python3.7/site-packages/pandas/core/indexing.py:1720: SettingWithCopyWarning: \n",
      "A value is trying to be set on a copy of a slice from a DataFrame.\n",
      "Try using .loc[row_indexer,col_indexer] = value instead\n",
      "\n",
      "See the caveats in the documentation: https://pandas.pydata.org/pandas-docs/stable/user_guide/indexing.html#returning-a-view-versus-a-copy\n",
      "  self._setitem_single_column(loc, value, pi)\n"
     ]
    },
    {
     "data": {
      "text/html": [
       "<div>\n",
       "<style scoped>\n",
       "    .dataframe tbody tr th:only-of-type {\n",
       "        vertical-align: middle;\n",
       "    }\n",
       "\n",
       "    .dataframe tbody tr th {\n",
       "        vertical-align: top;\n",
       "    }\n",
       "\n",
       "    .dataframe thead th {\n",
       "        text-align: right;\n",
       "    }\n",
       "</style>\n",
       "<table border=\"1\" class=\"dataframe\">\n",
       "  <thead>\n",
       "    <tr style=\"text-align: right;\">\n",
       "      <th></th>\n",
       "      <th>BraTS21ID</th>\n",
       "      <th>MGMT_value</th>\n",
       "      <th>MRI_Type</th>\n",
       "    </tr>\n",
       "  </thead>\n",
       "  <tbody>\n",
       "    <tr>\n",
       "      <th>289</th>\n",
       "      <td>418</td>\n",
       "      <td>0</td>\n",
       "      <td>T1w</td>\n",
       "    </tr>\n",
       "    <tr>\n",
       "      <th>119</th>\n",
       "      <td>178</td>\n",
       "      <td>1</td>\n",
       "      <td>T1w</td>\n",
       "    </tr>\n",
       "    <tr>\n",
       "      <th>228</th>\n",
       "      <td>331</td>\n",
       "      <td>1</td>\n",
       "      <td>T1w</td>\n",
       "    </tr>\n",
       "    <tr>\n",
       "      <th>567</th>\n",
       "      <td>834</td>\n",
       "      <td>0</td>\n",
       "      <td>T1w</td>\n",
       "    </tr>\n",
       "    <tr>\n",
       "      <th>86</th>\n",
       "      <td>133</td>\n",
       "      <td>0</td>\n",
       "      <td>T1w</td>\n",
       "    </tr>\n",
       "  </tbody>\n",
       "</table>\n",
       "</div>"
      ],
      "text/plain": [
       "     BraTS21ID  MGMT_value MRI_Type\n",
       "289        418           0      T1w\n",
       "119        178           1      T1w\n",
       "228        331           1      T1w\n",
       "567        834           0      T1w\n",
       "86         133           0      T1w"
      ]
     },
     "metadata": {},
     "output_type": "display_data"
    },
    {
     "name": "stdout",
     "output_type": "stream",
     "text": [
      "EPOCH: 1\n",
      "[Epoch Train: 1] loss: 0.7535, time: 509.00 s            \n",
      "[Epoch Valid: 1] loss: 0.6911, auc: 0.4463, time: 32.00 s\n",
      "auc improved from inf to 0.6911. Saved model to 'T1w-e1-loss0.691-auc0.446.pth'\n",
      "EPOCH: 2\n",
      "[Epoch Train: 2] loss: 0.7126, time: 506.00 s            \n",
      "[Epoch Valid: 2] loss: 0.6914, auc: 0.5012, time: 32.00 s\n",
      "EPOCH: 3\n",
      "[Epoch Train: 3] loss: 0.7045, time: 506.00 s            \n",
      "[Epoch Valid: 3] loss: 0.6970, auc: 0.4830, time: 32.00 s\n",
      "EPOCH: 4\n",
      "[Epoch Train: 4] loss: 0.6999, time: 496.00 s            \n",
      "[Epoch Valid: 4] loss: 0.6831, auc: 0.5700, time: 32.00 s\n",
      "auc improved from 0.6911 to 0.6831. Saved model to 'T1w-e4-loss0.683-auc0.570.pth'\n",
      "EPOCH: 5\n",
      "[Epoch Train: 5] loss: 0.6986, time: 495.00 s            \n",
      "[Epoch Valid: 5] loss: 0.8511, auc: 0.5202, time: 32.00 s\n",
      "EPOCH: 6\n",
      "[Epoch Train: 6] loss: 0.6982, time: 503.00 s            \n",
      "[Epoch Valid: 6] loss: 0.7461, auc: 0.5580, time: 32.00 s\n",
      "EPOCH: 7\n",
      "[Epoch Train: 7] loss: 0.7025, time: 505.00 s            \n",
      "[Epoch Valid: 7] loss: 0.7896, auc: 0.5869, time: 32.00 s\n",
      "EPOCH: 8\n",
      "[Epoch Train: 8] loss: 0.7036, time: 504.00 s            \n",
      "[Epoch Valid: 8] loss: 0.7979, auc: 0.5665, time: 32.00 s\n",
      "EPOCH: 9\n",
      "[Epoch Train: 9] loss: 0.7045, time: 507.00 s            \n",
      "[Epoch Valid: 9] loss: 0.6947, auc: 0.4376, time: 32.00 s\n",
      "EPOCH: 10\n",
      "[Epoch Train: 10] loss: 0.6955, time: 509.00 s            \n",
      "[Epoch Valid: 10] loss: 2.0358, auc: 0.6174, time: 32.00 s\n",
      "(468, 3) (117, 3)\n"
     ]
    },
    {
     "name": "stderr",
     "output_type": "stream",
     "text": [
      "/opt/conda/lib/python3.7/site-packages/pandas/core/indexing.py:1720: SettingWithCopyWarning: \n",
      "A value is trying to be set on a copy of a slice from a DataFrame.\n",
      "Try using .loc[row_indexer,col_indexer] = value instead\n",
      "\n",
      "See the caveats in the documentation: https://pandas.pydata.org/pandas-docs/stable/user_guide/indexing.html#returning-a-view-versus-a-copy\n",
      "  self._setitem_single_column(loc, value, pi)\n"
     ]
    },
    {
     "data": {
      "text/html": [
       "<div>\n",
       "<style scoped>\n",
       "    .dataframe tbody tr th:only-of-type {\n",
       "        vertical-align: middle;\n",
       "    }\n",
       "\n",
       "    .dataframe tbody tr th {\n",
       "        vertical-align: top;\n",
       "    }\n",
       "\n",
       "    .dataframe thead th {\n",
       "        text-align: right;\n",
       "    }\n",
       "</style>\n",
       "<table border=\"1\" class=\"dataframe\">\n",
       "  <thead>\n",
       "    <tr style=\"text-align: right;\">\n",
       "      <th></th>\n",
       "      <th>BraTS21ID</th>\n",
       "      <th>MGMT_value</th>\n",
       "      <th>MRI_Type</th>\n",
       "    </tr>\n",
       "  </thead>\n",
       "  <tbody>\n",
       "    <tr>\n",
       "      <th>289</th>\n",
       "      <td>418</td>\n",
       "      <td>0</td>\n",
       "      <td>T1wCE</td>\n",
       "    </tr>\n",
       "    <tr>\n",
       "      <th>119</th>\n",
       "      <td>178</td>\n",
       "      <td>1</td>\n",
       "      <td>T1wCE</td>\n",
       "    </tr>\n",
       "    <tr>\n",
       "      <th>228</th>\n",
       "      <td>331</td>\n",
       "      <td>1</td>\n",
       "      <td>T1wCE</td>\n",
       "    </tr>\n",
       "    <tr>\n",
       "      <th>567</th>\n",
       "      <td>834</td>\n",
       "      <td>0</td>\n",
       "      <td>T1wCE</td>\n",
       "    </tr>\n",
       "    <tr>\n",
       "      <th>86</th>\n",
       "      <td>133</td>\n",
       "      <td>0</td>\n",
       "      <td>T1wCE</td>\n",
       "    </tr>\n",
       "  </tbody>\n",
       "</table>\n",
       "</div>"
      ],
      "text/plain": [
       "     BraTS21ID  MGMT_value MRI_Type\n",
       "289        418           0    T1wCE\n",
       "119        178           1    T1wCE\n",
       "228        331           1    T1wCE\n",
       "567        834           0    T1wCE\n",
       "86         133           0    T1wCE"
      ]
     },
     "metadata": {},
     "output_type": "display_data"
    },
    {
     "name": "stdout",
     "output_type": "stream",
     "text": [
      "EPOCH: 1\n",
      "[Epoch Train: 1] loss: 0.7546, time: 495.00 s            \n",
      "[Epoch Valid: 1] loss: 0.6931, auc: 0.6028, time: 44.00 s\n",
      "auc improved from inf to 0.6931. Saved model to 'T1wCE-e1-loss0.693-auc0.603.pth'\n",
      "EPOCH: 2\n",
      "[Epoch Train: 2] loss: 0.7147, time: 500.00 s            \n",
      "[Epoch Valid: 2] loss: 0.6911, auc: 0.4094, time: 32.00 s\n",
      "auc improved from 0.6931 to 0.6911. Saved model to 'T1wCE-e2-loss0.691-auc0.409.pth'\n",
      "EPOCH: 3\n",
      "[Epoch Train: 3] loss: 0.6973, time: 510.00 s            \n",
      "[Epoch Valid: 3] loss: 0.6890, auc: 0.5392, time: 32.00 s\n",
      "auc improved from 0.6911 to 0.6890. Saved model to 'T1wCE-e3-loss0.689-auc0.539.pth'\n",
      "EPOCH: 4\n",
      "[Epoch Train: 4] loss: 0.6988, time: 504.00 s            \n",
      "[Epoch Valid: 4] loss: 2.5104, auc: 0.4072, time: 32.00 s\n",
      "EPOCH: 5\n",
      "[Epoch Train: 5] loss: 0.7042, time: 500.00 s            \n",
      "[Epoch Valid: 5] loss: 3.2365, auc: 0.4136, time: 32.00 s\n",
      "EPOCH: 6\n",
      "[Epoch Train: 6] loss: 0.6981, time: 500.00 s            \n",
      "[Epoch Valid: 6] loss: 6.0032, auc: 0.4417, time: 33.00 s\n",
      "EPOCH: 7\n",
      "[Epoch Train: 7] loss: 0.7050, time: 502.00 s            \n",
      "[Epoch Valid: 7] loss: 1.1273, auc: 0.5764, time: 33.00 s\n",
      "EPOCH: 8\n",
      "[Epoch Train: 8] loss: 0.7021, time: 506.00 s            \n",
      "[Epoch Valid: 8] loss: 1.0508, auc: 0.5667, time: 33.00 s\n",
      "EPOCH: 9\n",
      "[Epoch Train: 9] loss: 0.6965, time: 507.00 s            \n",
      "[Epoch Valid: 9] loss: 11.5304, auc: 0.3961, time: 33.00 s\n",
      "EPOCH: 10\n",
      "[Epoch Train: 10] loss: 0.7012, time: 504.00 s            \n",
      "[Epoch Valid: 10] loss: 2.4315, auc: 0.4374, time: 32.00 s\n",
      "(468, 3) (117, 3)\n"
     ]
    },
    {
     "name": "stderr",
     "output_type": "stream",
     "text": [
      "/opt/conda/lib/python3.7/site-packages/pandas/core/indexing.py:1720: SettingWithCopyWarning: \n",
      "A value is trying to be set on a copy of a slice from a DataFrame.\n",
      "Try using .loc[row_indexer,col_indexer] = value instead\n",
      "\n",
      "See the caveats in the documentation: https://pandas.pydata.org/pandas-docs/stable/user_guide/indexing.html#returning-a-view-versus-a-copy\n",
      "  self._setitem_single_column(loc, value, pi)\n"
     ]
    },
    {
     "data": {
      "text/html": [
       "<div>\n",
       "<style scoped>\n",
       "    .dataframe tbody tr th:only-of-type {\n",
       "        vertical-align: middle;\n",
       "    }\n",
       "\n",
       "    .dataframe tbody tr th {\n",
       "        vertical-align: top;\n",
       "    }\n",
       "\n",
       "    .dataframe thead th {\n",
       "        text-align: right;\n",
       "    }\n",
       "</style>\n",
       "<table border=\"1\" class=\"dataframe\">\n",
       "  <thead>\n",
       "    <tr style=\"text-align: right;\">\n",
       "      <th></th>\n",
       "      <th>BraTS21ID</th>\n",
       "      <th>MGMT_value</th>\n",
       "      <th>MRI_Type</th>\n",
       "    </tr>\n",
       "  </thead>\n",
       "  <tbody>\n",
       "    <tr>\n",
       "      <th>289</th>\n",
       "      <td>418</td>\n",
       "      <td>0</td>\n",
       "      <td>T2w</td>\n",
       "    </tr>\n",
       "    <tr>\n",
       "      <th>119</th>\n",
       "      <td>178</td>\n",
       "      <td>1</td>\n",
       "      <td>T2w</td>\n",
       "    </tr>\n",
       "    <tr>\n",
       "      <th>228</th>\n",
       "      <td>331</td>\n",
       "      <td>1</td>\n",
       "      <td>T2w</td>\n",
       "    </tr>\n",
       "    <tr>\n",
       "      <th>567</th>\n",
       "      <td>834</td>\n",
       "      <td>0</td>\n",
       "      <td>T2w</td>\n",
       "    </tr>\n",
       "    <tr>\n",
       "      <th>86</th>\n",
       "      <td>133</td>\n",
       "      <td>0</td>\n",
       "      <td>T2w</td>\n",
       "    </tr>\n",
       "  </tbody>\n",
       "</table>\n",
       "</div>"
      ],
      "text/plain": [
       "     BraTS21ID  MGMT_value MRI_Type\n",
       "289        418           0      T2w\n",
       "119        178           1      T2w\n",
       "228        331           1      T2w\n",
       "567        834           0      T2w\n",
       "86         133           0      T2w"
      ]
     },
     "metadata": {},
     "output_type": "display_data"
    },
    {
     "name": "stdout",
     "output_type": "stream",
     "text": [
      "EPOCH: 1\n",
      "[Epoch Train: 1] loss: 0.7629, time: 511.00 s            \n",
      "[Epoch Valid: 1] loss: 0.6985, auc: 0.5174, time: 33.00 s\n",
      "auc improved from inf to 0.6985. Saved model to 'T2w-e1-loss0.699-auc0.517.pth'\n",
      "EPOCH: 2\n",
      "[Epoch Train: 2] loss: 0.7054, time: 511.00 s            \n",
      "[Epoch Valid: 2] loss: 0.7039, auc: 0.4267, time: 33.00 s\n",
      "EPOCH: 3\n",
      "[Epoch Train: 3] loss: 0.7037, time: 512.00 s            \n",
      "[Epoch Valid: 3] loss: 0.6929, auc: 0.4915, time: 32.00 s\n",
      "auc improved from 0.6985 to 0.6929. Saved model to 'T2w-e3-loss0.693-auc0.492.pth'\n",
      "EPOCH: 4\n",
      "[Epoch Train: 4] loss: 0.7002, time: 512.00 s            \n",
      "[Epoch Valid: 4] loss: 1.1144, auc: 0.5023, time: 32.00 s\n",
      "EPOCH: 5\n",
      "[Epoch Train: 5] loss: 0.7052, time: 502.00 s            \n",
      "[Epoch Valid: 5] loss: 0.7868, auc: 0.5556, time: 33.00 s\n",
      "EPOCH: 6\n",
      "[Epoch Train: 6] loss: 0.7001, time: 509.00 s            \n",
      "[Epoch Valid: 6] loss: 1.5389, auc: 0.3402, time: 32.00 s\n",
      "EPOCH: 7\n",
      "[Epoch Train: 7] loss: 0.6993, time: 498.00 s            \n",
      "[Epoch Valid: 7] loss: 7.3594, auc: 0.4054, time: 32.00 s\n",
      "EPOCH: 8\n",
      "[Epoch Train: 8] loss: 0.6951, time: 498.00 s            \n",
      "[Epoch Valid: 8] loss: 135.6197, auc: 0.4576, time: 33.00 s\n",
      "EPOCH: 9\n",
      "[Epoch Train: 9] loss: 0.7101, time: 500.00 s            \n",
      "[Epoch Valid: 9] loss: 0.6918, auc: 0.5094, time: 32.00 s\n",
      "auc improved from 0.6929 to 0.6918. Saved model to 'T2w-e9-loss0.692-auc0.509.pth'\n",
      "EPOCH: 10\n",
      "[Epoch Train: 10] loss: 0.7124, time: 500.00 s            \n",
      "[Epoch Valid: 10] loss: 1.0314, auc: 0.4977, time: 33.00 s\n",
      "['FLAIR-e5-loss0.686-auc0.485.pth', 'T1w-e4-loss0.683-auc0.570.pth', 'T1wCE-e3-loss0.689-auc0.539.pth', 'T2w-e9-loss0.692-auc0.509.pth']\n"
     ]
    }
   ],
   "source": [
    "device = torch.device(\"cuda\" if torch.cuda.is_available() else \"cpu\")\n",
    "\n",
    "def train_mri_type(df_train, df_valid, mri_type):\n",
    "    if mri_type==\"all\":\n",
    "        train_list = []\n",
    "        valid_list = []\n",
    "        for mri_type in mri_types:\n",
    "            df_train.loc[:,\"MRI_Type\"] = mri_type\n",
    "            train_list.append(df_train.copy())\n",
    "            df_valid.loc[:,\"MRI_Type\"] = mri_type\n",
    "            valid_list.append(df_valid.copy())\n",
    "\n",
    "        df_train = pd.concat(train_list)\n",
    "        df_valid = pd.concat(valid_list)\n",
    "    else:\n",
    "        df_train.loc[:,\"MRI_Type\"] = mri_type\n",
    "        df_valid.loc[:,\"MRI_Type\"] = mri_type\n",
    "\n",
    "    print(df_train.shape, df_valid.shape)\n",
    "    display(df_train.head())\n",
    "    \n",
    "    train_data_retriever = Dataset(\n",
    "        df_train[\"BraTS21ID\"].values, \n",
    "        df_train[\"MGMT_value\"].values, \n",
    "        df_train[\"MRI_Type\"].values,\n",
    "        augment=True\n",
    "    )\n",
    "\n",
    "    valid_data_retriever = Dataset(\n",
    "        df_valid[\"BraTS21ID\"].values, \n",
    "        df_valid[\"MGMT_value\"].values,\n",
    "        df_valid[\"MRI_Type\"].values\n",
    "    )\n",
    "\n",
    "    train_loader = torch_data.DataLoader(\n",
    "        train_data_retriever,\n",
    "        batch_size=4,\n",
    "        shuffle=True,\n",
    "        num_workers=8,\n",
    "    )\n",
    "\n",
    "    valid_loader = torch_data.DataLoader(\n",
    "        valid_data_retriever, \n",
    "        batch_size=4,\n",
    "        shuffle=False,\n",
    "        num_workers=8,\n",
    "    )\n",
    "\n",
    "    model = Model()\n",
    "    model.to(device)\n",
    "\n",
    "    #checkpoint = torch.load(\"best-model-all-auc0.555.pth\")\n",
    "    #model.load_state_dict(checkpoint[\"model_state_dict\"])\n",
    "\n",
    "    #print(model)\n",
    "\n",
    "    optimizer = torch.optim.Adam(model.parameters(), lr=0.001)\n",
    "\n",
    "    criterion = torch_functional.binary_cross_entropy_with_logits\n",
    "\n",
    "    trainer = Trainer(\n",
    "        model, \n",
    "        device, \n",
    "        optimizer, \n",
    "        criterion\n",
    "    )\n",
    "\n",
    "    history = trainer.fit(\n",
    "        10, \n",
    "        train_loader, \n",
    "        valid_loader, \n",
    "        f\"{mri_type}\", \n",
    "        10,\n",
    "    )\n",
    "    \n",
    "    return trainer.lastmodel\n",
    "\n",
    "modelfiles = None\n",
    "\n",
    "if not modelfiles:\n",
    "    modelfiles = [train_mri_type(df_train, df_valid, m) for m in mri_types]\n",
    "    print(modelfiles)"
   ]
  },
  {
   "cell_type": "markdown",
   "id": "714adf24",
   "metadata": {
    "papermill": {
     "duration": 1.783131,
     "end_time": "2021-10-13T07:57:29.281345",
     "exception": false,
     "start_time": "2021-10-13T07:57:27.498214",
     "status": "completed"
    },
    "tags": []
   },
   "source": [
    "## Predict function"
   ]
  },
  {
   "cell_type": "code",
   "execution_count": 12,
   "id": "a99c86ce",
   "metadata": {
    "execution": {
     "iopub.execute_input": "2021-10-13T07:57:33.021550Z",
     "iopub.status.busy": "2021-10-13T07:57:33.010645Z",
     "iopub.status.idle": "2021-10-13T07:57:33.025213Z",
     "shell.execute_reply": "2021-10-13T07:57:33.024681Z",
     "shell.execute_reply.started": "2021-08-23T14:54:13.327412Z"
    },
    "papermill": {
     "duration": 1.806937,
     "end_time": "2021-10-13T07:57:33.025361",
     "exception": false,
     "start_time": "2021-10-13T07:57:31.218424",
     "status": "completed"
    },
    "tags": []
   },
   "outputs": [],
   "source": [
    "def predict(modelfile, df, mri_type, split):\n",
    "    print(\"Predict:\", modelfile, mri_type, df.shape)\n",
    "    df.loc[:,\"MRI_Type\"] = mri_type\n",
    "    data_retriever = Dataset(\n",
    "        df.index.values, \n",
    "        mri_type=df[\"MRI_Type\"].values,\n",
    "        split=split\n",
    "    )\n",
    "\n",
    "    data_loader = torch_data.DataLoader(\n",
    "        data_retriever,\n",
    "        batch_size=4,\n",
    "        shuffle=False,\n",
    "        num_workers=8,\n",
    "    )\n",
    "   \n",
    "    model = Model()\n",
    "    model.to(device)\n",
    "    \n",
    "    checkpoint = torch.load(modelfile)\n",
    "    model.load_state_dict(checkpoint[\"model_state_dict\"])\n",
    "    model.eval()\n",
    "    \n",
    "    y_pred = []\n",
    "    ids = []\n",
    "\n",
    "    for e, batch in enumerate(data_loader,1):\n",
    "        print(f\"{e}/{len(data_loader)}\", end=\"\\r\")\n",
    "        with torch.no_grad():\n",
    "            tmp_pred = torch.sigmoid(model(batch[\"X\"].to(device))).cpu().numpy().squeeze()\n",
    "            if tmp_pred.size == 1:\n",
    "                y_pred.append(tmp_pred)\n",
    "            else:\n",
    "                y_pred.extend(tmp_pred.tolist())\n",
    "            ids.extend(batch[\"id\"].numpy().tolist())\n",
    "            \n",
    "    preddf = pd.DataFrame({\"BraTS21ID\": ids, \"MGMT_value\": y_pred}) \n",
    "    preddf = preddf.set_index(\"BraTS21ID\")\n",
    "    return preddf"
   ]
  },
  {
   "cell_type": "markdown",
   "id": "475e6870",
   "metadata": {
    "papermill": {
     "duration": 1.791043,
     "end_time": "2021-10-13T07:57:36.597189",
     "exception": false,
     "start_time": "2021-10-13T07:57:34.806146",
     "status": "completed"
    },
    "tags": []
   },
   "source": [
    "## Ensemble for validation"
   ]
  },
  {
   "cell_type": "code",
   "execution_count": 13,
   "id": "bcbad653",
   "metadata": {
    "execution": {
     "iopub.execute_input": "2021-10-13T07:57:40.211722Z",
     "iopub.status.busy": "2021-10-13T07:57:40.211015Z",
     "iopub.status.idle": "2021-10-13T08:00:04.771020Z",
     "shell.execute_reply": "2021-10-13T08:00:04.771475Z",
     "shell.execute_reply.started": "2021-08-23T14:54:13.344715Z"
    },
    "papermill": {
     "duration": 146.36852,
     "end_time": "2021-10-13T08:00:04.771669",
     "exception": false,
     "start_time": "2021-10-13T07:57:38.403149",
     "status": "completed"
    },
    "tags": []
   },
   "outputs": [
    {
     "name": "stdout",
     "output_type": "stream",
     "text": [
      "Predict: FLAIR-e5-loss0.686-auc0.485.pth FLAIR (117, 3)\n",
      "Predict: T1w-e4-loss0.683-auc0.570.pth T1w (117, 3)\n",
      "Predict: T1wCE-e3-loss0.689-auc0.539.pth T1wCE (117, 3)\n",
      "Predict: T2w-e9-loss0.692-auc0.509.pth T2w (117, 3)\n",
      "Validation ensemble AUC: 0.5653\n"
     ]
    },
    {
     "data": {
      "text/plain": [
       "<seaborn.axisgrid.FacetGrid at 0x7ff3740dd750>"
      ]
     },
     "execution_count": 13,
     "metadata": {},
     "output_type": "execute_result"
    },
    {
     "data": {
      "image/png": "[encoded data removed]",
      "text/plain": [
       "<Figure size 360x360 with 1 Axes>"
      ]
     },
     "metadata": {
      "needs_background": "light"
     },
     "output_type": "display_data"
    }
   ],
   "source": [
    "df_valid = df_valid.set_index(\"BraTS21ID\")\n",
    "df_valid[\"MGMT_pred\"] = 0\n",
    "for m, mtype in zip(modelfiles,  mri_types):\n",
    "    pred = predict(m, df_valid, mtype, \"train\")\n",
    "    df_valid[\"MGMT_pred\"] += pred[\"MGMT_value\"]\n",
    "df_valid[\"MGMT_pred\"] /= len(modelfiles)\n",
    "auc = roc_auc_score(df_valid[\"MGMT_value\"], df_valid[\"MGMT_pred\"])\n",
    "print(f\"Validation ensemble AUC: {auc:.4f}\")\n",
    "sns.displot(df_valid[\"MGMT_pred\"])"
   ]
  },
  {
   "cell_type": "markdown",
   "id": "e55c7110",
   "metadata": {
    "papermill": {
     "duration": 1.839859,
     "end_time": "2021-10-13T08:00:08.432933",
     "exception": false,
     "start_time": "2021-10-13T08:00:06.593074",
     "status": "completed"
    },
    "tags": []
   },
   "source": [
    "## Ensemble for submission"
   ]
  },
  {
   "cell_type": "code",
   "execution_count": 14,
   "id": "65b15e4b",
   "metadata": {
    "execution": {
     "iopub.execute_input": "2021-10-13T08:00:12.200799Z",
     "iopub.status.busy": "2021-10-13T08:00:12.200091Z",
     "iopub.status.idle": "2021-10-13T08:01:52.291390Z",
     "shell.execute_reply": "2021-10-13T08:01:52.292000Z",
     "shell.execute_reply.started": "2021-08-23T14:55:51.144546Z"
    },
    "papermill": {
     "duration": 102.027034,
     "end_time": "2021-10-13T08:01:52.292202",
     "exception": false,
     "start_time": "2021-10-13T08:00:10.265168",
     "status": "completed"
    },
    "tags": []
   },
   "outputs": [
    {
     "name": "stdout",
     "output_type": "stream",
     "text": [
      "Predict: FLAIR-e5-loss0.686-auc0.485.pth FLAIR (87, 1)\n",
      "Predict: T1w-e4-loss0.683-auc0.570.pth T1w (87, 2)\n",
      "Predict: T1wCE-e3-loss0.689-auc0.539.pth T1wCE (87, 2)\n",
      "Predict: T2w-e9-loss0.692-auc0.509.pth T2w (87, 2)\n",
      "22/22\r"
     ]
    }
   ],
   "source": [
    "submission = pd.read_csv('../input/rsna-miccai-brain-tumor-radiogenomic-classification/sample_submission.csv', index_col=\"BraTS21ID\")\n",
    "\n",
    "submission[\"MGMT_value\"] = 0\n",
    "for m, mtype in zip(modelfiles, mri_types):\n",
    "    pred = predict(m, submission, mtype, split=\"test\")\n",
    "    submission[\"MGMT_value\"] += pred[\"MGMT_value\"]\n",
    "\n",
    "submission[\"MGMT_value\"] /= len(modelfiles)\n",
    "submission[\"MGMT_value\"].to_csv(\"submission.csv\")"
   ]
  },
  {
   "cell_type": "code",
   "execution_count": 15,
   "id": "2949013e",
   "metadata": {
    "execution": {
     "iopub.execute_input": "2021-10-13T08:01:56.164202Z",
     "iopub.status.busy": "2021-10-13T08:01:56.163286Z",
     "iopub.status.idle": "2021-10-13T08:01:56.167514Z",
     "shell.execute_reply": "2021-10-13T08:01:56.166887Z",
     "shell.execute_reply.started": "2021-08-23T14:57:06.910198Z"
    },
    "papermill": {
     "duration": 1.878533,
     "end_time": "2021-10-13T08:01:56.167678",
     "exception": false,
     "start_time": "2021-10-13T08:01:54.289145",
     "status": "completed"
    },
    "tags": []
   },
   "outputs": [
    {
     "data": {
      "text/html": [
       "<div>\n",
       "<style scoped>\n",
       "    .dataframe tbody tr th:only-of-type {\n",
       "        vertical-align: middle;\n",
       "    }\n",
       "\n",
       "    .dataframe tbody tr th {\n",
       "        vertical-align: top;\n",
       "    }\n",
       "\n",
       "    .dataframe thead th {\n",
       "        text-align: right;\n",
       "    }\n",
       "</style>\n",
       "<table border=\"1\" class=\"dataframe\">\n",
       "  <thead>\n",
       "    <tr style=\"text-align: right;\">\n",
       "      <th></th>\n",
       "      <th>MGMT_value</th>\n",
       "      <th>MRI_Type</th>\n",
       "    </tr>\n",
       "    <tr>\n",
       "      <th>BraTS21ID</th>\n",
       "      <th></th>\n",
       "      <th></th>\n",
       "    </tr>\n",
       "  </thead>\n",
       "  <tbody>\n",
       "    <tr>\n",
       "      <th>1</th>\n",
       "      <td>0.529571</td>\n",
       "      <td>T2w</td>\n",
       "    </tr>\n",
       "    <tr>\n",
       "      <th>13</th>\n",
       "      <td>0.533304</td>\n",
       "      <td>T2w</td>\n",
       "    </tr>\n",
       "    <tr>\n",
       "      <th>15</th>\n",
       "      <td>0.529467</td>\n",
       "      <td>T2w</td>\n",
       "    </tr>\n",
       "    <tr>\n",
       "      <th>27</th>\n",
       "      <td>0.529804</td>\n",
       "      <td>T2w</td>\n",
       "    </tr>\n",
       "    <tr>\n",
       "      <th>37</th>\n",
       "      <td>0.529494</td>\n",
       "      <td>T2w</td>\n",
       "    </tr>\n",
       "    <tr>\n",
       "      <th>...</th>\n",
       "      <td>...</td>\n",
       "      <td>...</td>\n",
       "    </tr>\n",
       "    <tr>\n",
       "      <th>826</th>\n",
       "      <td>0.529865</td>\n",
       "      <td>T2w</td>\n",
       "    </tr>\n",
       "    <tr>\n",
       "      <th>829</th>\n",
       "      <td>0.415687</td>\n",
       "      <td>T2w</td>\n",
       "    </tr>\n",
       "    <tr>\n",
       "      <th>833</th>\n",
       "      <td>0.514630</td>\n",
       "      <td>T2w</td>\n",
       "    </tr>\n",
       "    <tr>\n",
       "      <th>997</th>\n",
       "      <td>0.530664</td>\n",
       "      <td>T2w</td>\n",
       "    </tr>\n",
       "    <tr>\n",
       "      <th>1006</th>\n",
       "      <td>0.529523</td>\n",
       "      <td>T2w</td>\n",
       "    </tr>\n",
       "  </tbody>\n",
       "</table>\n",
       "<p>87 rows × 2 columns</p>\n",
       "</div>"
      ],
      "text/plain": [
       "           MGMT_value MRI_Type\n",
       "BraTS21ID                     \n",
       "1            0.529571      T2w\n",
       "13           0.533304      T2w\n",
       "15           0.529467      T2w\n",
       "27           0.529804      T2w\n",
       "37           0.529494      T2w\n",
       "...               ...      ...\n",
       "826          0.529865      T2w\n",
       "829          0.415687      T2w\n",
       "833          0.514630      T2w\n",
       "997          0.530664      T2w\n",
       "1006         0.529523      T2w\n",
       "\n",
       "[87 rows x 2 columns]"
      ]
     },
     "execution_count": 15,
     "metadata": {},
     "output_type": "execute_result"
    }
   ],
   "source": [
    "submission"
   ]
  },
  {
   "cell_type": "code",
   "execution_count": 16,
   "id": "1b0d496e",
   "metadata": {
    "execution": {
     "iopub.execute_input": "2021-10-13T08:01:59.886023Z",
     "iopub.status.busy": "2021-10-13T08:01:59.885306Z",
     "iopub.status.idle": "2021-10-13T08:02:00.183481Z",
     "shell.execute_reply": "2021-10-13T08:02:00.183975Z",
     "shell.execute_reply.started": "2021-08-23T14:57:06.930862Z"
    },
    "papermill": {
     "duration": 2.167318,
     "end_time": "2021-10-13T08:02:00.184146",
     "exception": false,
     "start_time": "2021-10-13T08:01:58.016828",
     "status": "completed"
    },
    "tags": []
   },
   "outputs": [
    {
     "data": {
      "text/plain": [
       "<seaborn.axisgrid.FacetGrid at 0x7ff36656d710>"
      ]
     },
     "execution_count": 16,
     "metadata": {},
     "output_type": "execute_result"
    },
    {
     "data": {
      "image/png": "[encoded data removed]",
      "text/plain": [
       "<Figure size 360x360 with 1 Axes>"
      ]
     },
     "metadata": {
      "needs_background": "light"
     },
     "output_type": "display_data"
    }
   ],
   "source": [
    "sns.displot(submission[\"MGMT_value\"])"
   ]
  }
 ],
 "metadata": {
  "kernelspec": {
   "display_name": "Python 3 (ipykernel)",
   "language": "python",
   "name": "python3"
  },
  "language_info": {
   "codemirror_mode": {
    "name": "ipython",
    "version": 3
   },
   "file_extension": ".py",
   "mimetype": "text/x-python",
   "name": "python",
   "nbconvert_exporter": "python",
   "pygments_lexer": "ipython3",
   "version": "3.8.3"
  },
  "papermill": {
   "default_parameters": {},
   "duration": 21746.350365,
   "end_time": "2021-10-13T08:02:03.602965",
   "environment_variables": {},
   "exception": null,
   "input_path": "__notebook__.ipynb",
   "output_path": "__notebook__.ipynb",
   "parameters": {},
   "start_time": "2021-10-13T01:59:37.252600",
   "version": "2.3.3"
  }
 },
 "nbformat": 4,
 "nbformat_minor": 5
}
